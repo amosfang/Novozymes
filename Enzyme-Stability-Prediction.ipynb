{
 "cells": [
  {
   "cell_type": "code",
   "execution_count": 1,
   "metadata": {},
   "outputs": [],
   "source": [
    "# Import libraries\n",
    "import pandas as pd\n",
    "import numpy as np\n",
    "import re\n",
    "from math import isnan\n",
    "\n",
    "# Visualization plots\n",
    "from matplotlib import pyplot as plt\n",
    "import seaborn as sns\n",
    "\n",
    "# ML Data Preparation\n",
    "from sklearn.preprocessing import LabelEncoder # labeling of categorical target variables\n",
    "from sklearn.preprocessing import StandardScaler # scale values to standard normal distribution X~N(0,1)\n",
    "from sklearn.model_selection import train_test_split # train-test data split\n",
    "\n",
    "# ML Feature Importance Analysis\n",
    "from sklearn.decomposition import PCA\n",
    "from sklearn.model_selection import GridSearchCV\n",
    "from sklearn.ensemble import ExtraTreesClassifier\n",
    "from sklearn.feature_selection import SelectFromModel\n",
    "from sklearn.svm import LinearSVC\n",
    "from sklearn.feature_selection import SelectFromModel\n",
    "from sklearn.pipeline import Pipeline\n",
    "\n",
    "# ML Techniques\n",
    "from sklearn.ensemble import GradientBoostingClassifier\n",
    "from sklearn.linear_model import LogisticRegression\n",
    "from sklearn.ensemble import RandomForestClassifier\n",
    "\n",
    "# ML Model Evaluation\n",
    "from sklearn.metrics import roc_curve, auc\n",
    "from sklearn.metrics import accuracy_score\n",
    "from sklearn import metrics\n",
    "from sklearn.model_selection import RepeatedKFold\n",
    "from sklearn.model_selection import cross_val_score\n",
    "\n",
    "# Support Vector Machine\n",
    "from sklearn.preprocessing import PolynomialFeatures\n",
    "from sklearn.svm import SVC"
   ]
  },
  {
   "cell_type": "markdown",
   "metadata": {},
   "source": [
    "### Special Requirement - merge the replacement values from the auxiliary file (as specified in the project description)"
   ]
  },
  {
   "cell_type": "code",
   "execution_count": 29,
   "metadata": {},
   "outputs": [],
   "source": [
    "df = pd.read_csv('train.csv')\n",
    "df_replace = pd.read_csv('train_updates_20220929.csv')\n",
    "df = df.drop('data_source', axis=1)\n",
    "df_replace = df_replace.drop('data_source', axis=1)\n",
    "\n",
    "df = df.merge(df_replace, on='seq_id', how='left')\n",
    "df = df.loc[:,~df.columns.str.match(r'(.*?)\\_y')]"
   ]
  },
  {
   "cell_type": "code",
   "execution_count": 30,
   "metadata": {},
   "outputs": [],
   "source": [
    "df = df.rename(columns=lambda x: re.sub(r'\\_x', '', x))"
   ]
  },
  {
   "cell_type": "code",
   "execution_count": 31,
   "metadata": {},
   "outputs": [
    {
     "data": {
      "text/html": [
       "<div>\n",
       "<style scoped>\n",
       "    .dataframe tbody tr th:only-of-type {\n",
       "        vertical-align: middle;\n",
       "    }\n",
       "\n",
       "    .dataframe tbody tr th {\n",
       "        vertical-align: top;\n",
       "    }\n",
       "\n",
       "    .dataframe thead th {\n",
       "        text-align: right;\n",
       "    }\n",
       "</style>\n",
       "<table border=\"1\" class=\"dataframe\">\n",
       "  <thead>\n",
       "    <tr style=\"text-align: right;\">\n",
       "      <th></th>\n",
       "      <th>seq_id</th>\n",
       "      <th>protein_sequence</th>\n",
       "      <th>pH</th>\n",
       "      <th>tm</th>\n",
       "    </tr>\n",
       "  </thead>\n",
       "  <tbody>\n",
       "    <tr>\n",
       "      <th>0</th>\n",
       "      <td>0</td>\n",
       "      <td>AAAAKAAALALLGEAPEVVDIWLPAGWRQPFRVFRLERKGDGVLVG...</td>\n",
       "      <td>7.0</td>\n",
       "      <td>75.7</td>\n",
       "    </tr>\n",
       "    <tr>\n",
       "      <th>1</th>\n",
       "      <td>1</td>\n",
       "      <td>AAADGEPLHNEEERAGAGQVGRSLPQESEEQRTGSRPRRRRDLGSR...</td>\n",
       "      <td>7.0</td>\n",
       "      <td>50.5</td>\n",
       "    </tr>\n",
       "    <tr>\n",
       "      <th>2</th>\n",
       "      <td>2</td>\n",
       "      <td>AAAFSTPRATSYRILSSAGSGSTRADAPQVRRLHTTRDLLAKDYYA...</td>\n",
       "      <td>7.0</td>\n",
       "      <td>40.5</td>\n",
       "    </tr>\n",
       "    <tr>\n",
       "      <th>3</th>\n",
       "      <td>3</td>\n",
       "      <td>AAASGLRTAIPAQPLRHLLQPAPRPCLRPFGLLSVRAGSARRSGLL...</td>\n",
       "      <td>7.0</td>\n",
       "      <td>47.2</td>\n",
       "    </tr>\n",
       "    <tr>\n",
       "      <th>4</th>\n",
       "      <td>4</td>\n",
       "      <td>AAATKSGPRRQSQGASVRTFTPFYFLVEPVDTLSVRGSSVILNCSA...</td>\n",
       "      <td>7.0</td>\n",
       "      <td>49.5</td>\n",
       "    </tr>\n",
       "  </tbody>\n",
       "</table>\n",
       "</div>"
      ],
      "text/plain": [
       "   seq_id                                   protein_sequence   pH    tm\n",
       "0       0  AAAAKAAALALLGEAPEVVDIWLPAGWRQPFRVFRLERKGDGVLVG...  7.0  75.7\n",
       "1       1  AAADGEPLHNEEERAGAGQVGRSLPQESEEQRTGSRPRRRRDLGSR...  7.0  50.5\n",
       "2       2  AAAFSTPRATSYRILSSAGSGSTRADAPQVRRLHTTRDLLAKDYYA...  7.0  40.5\n",
       "3       3  AAASGLRTAIPAQPLRHLLQPAPRPCLRPFGLLSVRAGSARRSGLL...  7.0  47.2\n",
       "4       4  AAATKSGPRRQSQGASVRTFTPFYFLVEPVDTLSVRGSSVILNCSA...  7.0  49.5"
      ]
     },
     "execution_count": 31,
     "metadata": {},
     "output_type": "execute_result"
    }
   ],
   "source": [
    "df.head()"
   ]
  },
  {
   "cell_type": "markdown",
   "metadata": {},
   "source": [
    "# 1. Data Preparation"
   ]
  },
  {
   "cell_type": "markdown",
   "metadata": {},
   "source": [
    "## 1.1 Create new columns/features"
   ]
  },
  {
   "cell_type": "code",
   "execution_count": 5,
   "metadata": {
    "scrolled": true
   },
   "outputs": [
    {
     "data": {
      "text/html": [
       "<div>\n",
       "<style scoped>\n",
       "    .dataframe tbody tr th:only-of-type {\n",
       "        vertical-align: middle;\n",
       "    }\n",
       "\n",
       "    .dataframe tbody tr th {\n",
       "        vertical-align: top;\n",
       "    }\n",
       "\n",
       "    .dataframe thead th {\n",
       "        text-align: right;\n",
       "    }\n",
       "</style>\n",
       "<table border=\"1\" class=\"dataframe\">\n",
       "  <thead>\n",
       "    <tr style=\"text-align: right;\">\n",
       "      <th></th>\n",
       "      <th>protein_sequence</th>\n",
       "      <th>tm</th>\n",
       "      <th>pH</th>\n",
       "    </tr>\n",
       "  </thead>\n",
       "  <tbody>\n",
       "    <tr>\n",
       "      <th>0</th>\n",
       "      <td>AAAAKAAALALLGEAPEVVDIWLPAGWRQPFRVFRLERKGDGVLVG...</td>\n",
       "      <td>75.7</td>\n",
       "      <td>7.0</td>\n",
       "    </tr>\n",
       "    <tr>\n",
       "      <th>1</th>\n",
       "      <td>AAADGEPLHNEEERAGAGQVGRSLPQESEEQRTGSRPRRRRDLGSR...</td>\n",
       "      <td>50.5</td>\n",
       "      <td>7.0</td>\n",
       "    </tr>\n",
       "    <tr>\n",
       "      <th>2</th>\n",
       "      <td>AAAFSTPRATSYRILSSAGSGSTRADAPQVRRLHTTRDLLAKDYYA...</td>\n",
       "      <td>40.5</td>\n",
       "      <td>7.0</td>\n",
       "    </tr>\n",
       "    <tr>\n",
       "      <th>3</th>\n",
       "      <td>AAASGLRTAIPAQPLRHLLQPAPRPCLRPFGLLSVRAGSARRSGLL...</td>\n",
       "      <td>47.2</td>\n",
       "      <td>7.0</td>\n",
       "    </tr>\n",
       "    <tr>\n",
       "      <th>4</th>\n",
       "      <td>AAATKSGPRRQSQGASVRTFTPFYFLVEPVDTLSVRGSSVILNCSA...</td>\n",
       "      <td>49.5</td>\n",
       "      <td>7.0</td>\n",
       "    </tr>\n",
       "    <tr>\n",
       "      <th>...</th>\n",
       "      <td>...</td>\n",
       "      <td>...</td>\n",
       "      <td>...</td>\n",
       "    </tr>\n",
       "    <tr>\n",
       "      <th>28976</th>\n",
       "      <td>YYMYSGGGSALAAGGGGAGRKGDWNDIDSIKKKDLHHSRGDEKAQG...</td>\n",
       "      <td>51.8</td>\n",
       "      <td>7.0</td>\n",
       "    </tr>\n",
       "    <tr>\n",
       "      <th>28977</th>\n",
       "      <td>YYNDQHRLSSYSVETAMFLSWERAIVKPGAMFKKAVIGFNCNVDLI...</td>\n",
       "      <td>37.2</td>\n",
       "      <td>7.0</td>\n",
       "    </tr>\n",
       "    <tr>\n",
       "      <th>28978</th>\n",
       "      <td>YYQRTLGAELLYKISFGEMPKSAQDSAENCPSGMQFPDTAIAHANV...</td>\n",
       "      <td>64.6</td>\n",
       "      <td>7.0</td>\n",
       "    </tr>\n",
       "    <tr>\n",
       "      <th>28979</th>\n",
       "      <td>YYSFSDNITTVFLSRQAIDDDHSLSLGTISDVVESENGVVAADDAR...</td>\n",
       "      <td>50.7</td>\n",
       "      <td>7.0</td>\n",
       "    </tr>\n",
       "    <tr>\n",
       "      <th>28980</th>\n",
       "      <td>YYVPDEYWQSLEVAHKLTFGYGYLTWEWVQGIRSYVYPLLIAGLYK...</td>\n",
       "      <td>37.6</td>\n",
       "      <td>7.0</td>\n",
       "    </tr>\n",
       "  </tbody>\n",
       "</table>\n",
       "<p>28981 rows × 3 columns</p>\n",
       "</div>"
      ],
      "text/plain": [
       "                                        protein_sequence    tm   pH\n",
       "0      AAAAKAAALALLGEAPEVVDIWLPAGWRQPFRVFRLERKGDGVLVG...  75.7  7.0\n",
       "1      AAADGEPLHNEEERAGAGQVGRSLPQESEEQRTGSRPRRRRDLGSR...  50.5  7.0\n",
       "2      AAAFSTPRATSYRILSSAGSGSTRADAPQVRRLHTTRDLLAKDYYA...  40.5  7.0\n",
       "3      AAASGLRTAIPAQPLRHLLQPAPRPCLRPFGLLSVRAGSARRSGLL...  47.2  7.0\n",
       "4      AAATKSGPRRQSQGASVRTFTPFYFLVEPVDTLSVRGSSVILNCSA...  49.5  7.0\n",
       "...                                                  ...   ...  ...\n",
       "28976  YYMYSGGGSALAAGGGGAGRKGDWNDIDSIKKKDLHHSRGDEKAQG...  51.8  7.0\n",
       "28977  YYNDQHRLSSYSVETAMFLSWERAIVKPGAMFKKAVIGFNCNVDLI...  37.2  7.0\n",
       "28978  YYQRTLGAELLYKISFGEMPKSAQDSAENCPSGMQFPDTAIAHANV...  64.6  7.0\n",
       "28979  YYSFSDNITTVFLSRQAIDDDHSLSLGTISDVVESENGVVAADDAR...  50.7  7.0\n",
       "28980  YYVPDEYWQSLEVAHKLTFGYGYLTWEWVQGIRSYVYPLLIAGLYK...  37.6  7.0\n",
       "\n",
       "[28981 rows x 3 columns]"
      ]
     },
     "execution_count": 5,
     "metadata": {},
     "output_type": "execute_result"
    }
   ],
   "source": [
    "df_n = df.groupby('protein_sequence').agg({'tm': 'max','pH': 'mean'})\n",
    "df_n = pd.DataFrame(df_n).reset_index()\n",
    "df_n"
   ]
  },
  {
   "cell_type": "code",
   "execution_count": 6,
   "metadata": {},
   "outputs": [],
   "source": [
    "df_n['First_3_AA'] = df_n['protein_sequence'].apply(lambda x:x[0:3])\n",
    "df_n['Seq_Len'] = df_n['protein_sequence'].apply(lambda x:len(x))"
   ]
  },
  {
   "cell_type": "markdown",
   "metadata": {},
   "source": [
    "## 1.2 Analysis"
   ]
  },
  {
   "cell_type": "code",
   "execution_count": 7,
   "metadata": {},
   "outputs": [
    {
     "data": {
      "text/html": [
       "<div>\n",
       "<style scoped>\n",
       "    .dataframe tbody tr th:only-of-type {\n",
       "        vertical-align: middle;\n",
       "    }\n",
       "\n",
       "    .dataframe tbody tr th {\n",
       "        vertical-align: top;\n",
       "    }\n",
       "\n",
       "    .dataframe thead th {\n",
       "        text-align: right;\n",
       "    }\n",
       "</style>\n",
       "<table border=\"1\" class=\"dataframe\">\n",
       "  <thead>\n",
       "    <tr style=\"text-align: right;\">\n",
       "      <th></th>\n",
       "      <th>tm</th>\n",
       "    </tr>\n",
       "    <tr>\n",
       "      <th>First_3_AA</th>\n",
       "      <th></th>\n",
       "    </tr>\n",
       "  </thead>\n",
       "  <tbody>\n",
       "    <tr>\n",
       "      <th>SHT</th>\n",
       "      <td>98.400000</td>\n",
       "    </tr>\n",
       "    <tr>\n",
       "      <th>MWW</th>\n",
       "      <td>98.200000</td>\n",
       "    </tr>\n",
       "    <tr>\n",
       "      <th>NPK</th>\n",
       "      <td>96.100000</td>\n",
       "    </tr>\n",
       "    <tr>\n",
       "      <th>GTG</th>\n",
       "      <td>95.200000</td>\n",
       "    </tr>\n",
       "    <tr>\n",
       "      <th>AYL</th>\n",
       "      <td>95.100000</td>\n",
       "    </tr>\n",
       "    <tr>\n",
       "      <th>...</th>\n",
       "      <td>...</td>\n",
       "    </tr>\n",
       "    <tr>\n",
       "      <th>MIS</th>\n",
       "      <td>29.539744</td>\n",
       "    </tr>\n",
       "    <tr>\n",
       "      <th>ADL</th>\n",
       "      <td>29.400000</td>\n",
       "    </tr>\n",
       "    <tr>\n",
       "      <th>NQA</th>\n",
       "      <td>25.000000</td>\n",
       "    </tr>\n",
       "    <tr>\n",
       "      <th>TEF</th>\n",
       "      <td>25.000000</td>\n",
       "    </tr>\n",
       "    <tr>\n",
       "      <th>DIV</th>\n",
       "      <td>20.000000</td>\n",
       "    </tr>\n",
       "  </tbody>\n",
       "</table>\n",
       "<p>3042 rows × 1 columns</p>\n",
       "</div>"
      ],
      "text/plain": [
       "                   tm\n",
       "First_3_AA           \n",
       "SHT         98.400000\n",
       "MWW         98.200000\n",
       "NPK         96.100000\n",
       "GTG         95.200000\n",
       "AYL         95.100000\n",
       "...               ...\n",
       "MIS         29.539744\n",
       "ADL         29.400000\n",
       "NQA         25.000000\n",
       "TEF         25.000000\n",
       "DIV         20.000000\n",
       "\n",
       "[3042 rows x 1 columns]"
      ]
     },
     "execution_count": 7,
     "metadata": {},
     "output_type": "execute_result"
    }
   ],
   "source": [
    "df_rpt = df.groupby(['First_3_AA'])['tm'].mean()\n",
    "df_rpt = pd.DataFrame(df_rpt).sort_values(by='tm',ascending=False)\n",
    "df_rpt"
   ]
  },
  {
   "cell_type": "code",
   "execution_count": null,
   "metadata": {},
   "outputs": [],
   "source": [
    "df = df.sort_values(by='tm',ascending=False).reset_index(drop=True)"
   ]
  },
  {
   "cell_type": "code",
   "execution_count": null,
   "metadata": {},
   "outputs": [],
   "source": [
    "import re\n",
    "\n",
    "\n",
    "def find_ngrams(text: str, number: int=3) -> set:\n",
    "    \"\"\"\n",
    "    returns a set of ngrams for the given string\n",
    "    :param text: the string to find ngrams for\n",
    "    :param number: the length the ngrams should be. defaults to 3 (trigrams)\n",
    "    :return: set of ngram strings\n",
    "    \"\"\"\n",
    "\n",
    "    if not text:\n",
    "        return set()\n",
    "\n",
    "    words = [f'  {x} ' for x in re.split(r'\\W+', text.lower()) if x.strip()]\n",
    "\n",
    "    ngrams = set()\n",
    "\n",
    "    for word in words:\n",
    "        for x in range(0, len(word) - number + 1):\n",
    "            ngrams.add(word[x:x+number])\n",
    "\n",
    "    return ngrams\n",
    "\n",
    "\n",
    "def similarity(text1: str, text2: str, number: int=3) -> float:\n",
    "    \"\"\"\n",
    "    Finds the similarity between 2 strings using ngrams.\n",
    "    0 being completely different strings, and 1 being equal strings\n",
    "    \"\"\"\n",
    "\n",
    "    ngrams1 = find_ngrams(text1, number)\n",
    "    ngrams2 = find_ngrams(text2, number)\n",
    "\n",
    "    num_unique = len(ngrams1 | ngrams2)\n",
    "    num_equal = len(ngrams1 & ngrams2)\n",
    "\n",
    "    return float(num_equal) / float(num_unique)"
   ]
  },
  {
   "cell_type": "code",
   "execution_count": null,
   "metadata": {},
   "outputs": [],
   "source": [
    "find_similarity(df['protein_sequence'])"
   ]
  },
  {
   "cell_type": "markdown",
   "metadata": {},
   "source": [
    "# 2. Analyze the PDB file"
   ]
  },
  {
   "cell_type": "markdown",
   "metadata": {},
   "source": [
    "This section is authored by Kaggle Master - MARÍLIA PRATA.\n",
    "\n",
    "https://www.kaggle.com/code/mpwolke/novozymes-pdb-file"
   ]
  },
  {
   "cell_type": "markdown",
   "metadata": {},
   "source": [
    "## 2.1 Install Biopandas and import the libraries"
   ]
  },
  {
   "cell_type": "code",
   "execution_count": 8,
   "metadata": {},
   "outputs": [
    {
     "name": "stdout",
     "output_type": "stream",
     "text": [
      "Collecting biopandas\n",
      "  Downloading biopandas-0.4.1-py2.py3-none-any.whl (878 kB)\n",
      "\u001b[K     |████████████████████████████████| 878 kB 7.6 MB/s eta 0:00:01\n",
      "\u001b[?25hRequirement already satisfied: setuptools in /Users/amosfang/opt/anaconda3/lib/python3.8/site-packages (from biopandas) (49.2.0.post20200714)\n",
      "Requirement already satisfied: pandas>=0.24.2 in /Users/amosfang/opt/anaconda3/lib/python3.8/site-packages (from biopandas) (1.0.5)\n",
      "Requirement already satisfied: numpy>=1.16.2 in /Users/amosfang/opt/anaconda3/lib/python3.8/site-packages (from biopandas) (1.18.5)\n",
      "Requirement already satisfied: python-dateutil>=2.6.1 in /Users/amosfang/opt/anaconda3/lib/python3.8/site-packages (from pandas>=0.24.2->biopandas) (2.8.1)\n",
      "Requirement already satisfied: pytz>=2017.2 in /Users/amosfang/opt/anaconda3/lib/python3.8/site-packages (from pandas>=0.24.2->biopandas) (2020.1)\n",
      "Requirement already satisfied: six>=1.5 in /Users/amosfang/opt/anaconda3/lib/python3.8/site-packages (from python-dateutil>=2.6.1->pandas>=0.24.2->biopandas) (1.15.0)\n",
      "Installing collected packages: biopandas\n",
      "Successfully installed biopandas-0.4.1\n"
     ]
    }
   ],
   "source": [
    "# !pip install biopandas # install package only once"
   ]
  },
  {
   "cell_type": "code",
   "execution_count": 9,
   "metadata": {},
   "outputs": [
    {
     "name": "stdout",
     "output_type": "stream",
     "text": [
      "dict_keys(['ATOM', 'HETATM', 'ANISOU', 'OTHERS'])\n"
     ]
    }
   ],
   "source": [
    "# Code by Moth https://www.kaggle.com/competitions/novozymes-enzyme-stability-prediction/discussion/354339\n",
    "\n",
    "from biopandas.pdb import PandasPdb\n",
    "\n",
    "pdb_df =  PandasPdb().read_pdb('wildtype_structure_prediction_af2.pdb')\n",
    "print(pdb_df.df.keys())"
   ]
  },
  {
   "cell_type": "code",
   "execution_count": 10,
   "metadata": {},
   "outputs": [],
   "source": [
    "#Code by Moth https://www.kaggle.com/competitions/novozymes-enzyme-stability-prediction/discussion/354339\n",
    "\n",
    "atom_df = pdb_df.df['ATOM']\n",
    "hetatm_df = pdb_df.df['HETATM']\n",
    "anisou_df = pdb_df.df['ANISOU']\n",
    "others_df = pdb_df.df['OTHERS']"
   ]
  },
  {
   "cell_type": "code",
   "execution_count": 11,
   "metadata": {},
   "outputs": [
    {
     "data": {
      "text/html": [
       "<div>\n",
       "<style scoped>\n",
       "    .dataframe tbody tr th:only-of-type {\n",
       "        vertical-align: middle;\n",
       "    }\n",
       "\n",
       "    .dataframe tbody tr th {\n",
       "        vertical-align: top;\n",
       "    }\n",
       "\n",
       "    .dataframe thead th {\n",
       "        text-align: right;\n",
       "    }\n",
       "</style>\n",
       "<table border=\"1\" class=\"dataframe\">\n",
       "  <thead>\n",
       "    <tr style=\"text-align: right;\">\n",
       "      <th></th>\n",
       "      <th>record_name</th>\n",
       "      <th>atom_number</th>\n",
       "      <th>blank_1</th>\n",
       "      <th>atom_name</th>\n",
       "      <th>alt_loc</th>\n",
       "      <th>residue_name</th>\n",
       "      <th>blank_2</th>\n",
       "      <th>chain_id</th>\n",
       "      <th>residue_number</th>\n",
       "      <th>insertion</th>\n",
       "      <th>...</th>\n",
       "      <th>x_coord</th>\n",
       "      <th>y_coord</th>\n",
       "      <th>z_coord</th>\n",
       "      <th>occupancy</th>\n",
       "      <th>b_factor</th>\n",
       "      <th>blank_4</th>\n",
       "      <th>segment_id</th>\n",
       "      <th>element_symbol</th>\n",
       "      <th>charge</th>\n",
       "      <th>line_idx</th>\n",
       "    </tr>\n",
       "  </thead>\n",
       "  <tbody>\n",
       "  </tbody>\n",
       "</table>\n",
       "<p>0 rows × 21 columns</p>\n",
       "</div>"
      ],
      "text/plain": [
       "Empty DataFrame\n",
       "Columns: [record_name, atom_number, blank_1, atom_name, alt_loc, residue_name, blank_2, chain_id, residue_number, insertion, blank_3, x_coord, y_coord, z_coord, occupancy, b_factor, blank_4, segment_id, element_symbol, charge, line_idx]\n",
       "Index: []\n",
       "\n",
       "[0 rows x 21 columns]"
      ]
     },
     "execution_count": 11,
     "metadata": {},
     "output_type": "execute_result"
    }
   ],
   "source": [
    "hetatm_df.head()"
   ]
  },
  {
   "cell_type": "code",
   "execution_count": 12,
   "metadata": {},
   "outputs": [
    {
     "data": {
      "text/html": [
       "<div>\n",
       "<style scoped>\n",
       "    .dataframe tbody tr th:only-of-type {\n",
       "        vertical-align: middle;\n",
       "    }\n",
       "\n",
       "    .dataframe tbody tr th {\n",
       "        vertical-align: top;\n",
       "    }\n",
       "\n",
       "    .dataframe thead th {\n",
       "        text-align: right;\n",
       "    }\n",
       "</style>\n",
       "<table border=\"1\" class=\"dataframe\">\n",
       "  <thead>\n",
       "    <tr style=\"text-align: right;\">\n",
       "      <th></th>\n",
       "      <th>record_name</th>\n",
       "      <th>atom_number</th>\n",
       "      <th>blank_1</th>\n",
       "      <th>atom_name</th>\n",
       "      <th>alt_loc</th>\n",
       "      <th>residue_name</th>\n",
       "      <th>blank_2</th>\n",
       "      <th>chain_id</th>\n",
       "      <th>residue_number</th>\n",
       "      <th>insertion</th>\n",
       "      <th>...</th>\n",
       "      <th>U(1,1)</th>\n",
       "      <th>U(2,2)</th>\n",
       "      <th>U(3,3)</th>\n",
       "      <th>U(1,2)</th>\n",
       "      <th>U(1,3)</th>\n",
       "      <th>U(2,3)</th>\n",
       "      <th>blank_4</th>\n",
       "      <th>element_symbol</th>\n",
       "      <th>charge</th>\n",
       "      <th>line_idx</th>\n",
       "    </tr>\n",
       "  </thead>\n",
       "  <tbody>\n",
       "  </tbody>\n",
       "</table>\n",
       "<p>0 rows × 21 columns</p>\n",
       "</div>"
      ],
      "text/plain": [
       "Empty DataFrame\n",
       "Columns: [record_name, atom_number, blank_1, atom_name, alt_loc, residue_name, blank_2, chain_id, residue_number, insertion, blank_3, U(1,1), U(2,2), U(3,3), U(1,2), U(1,3), U(2,3), blank_4, element_symbol, charge, line_idx]\n",
       "Index: []\n",
       "\n",
       "[0 rows x 21 columns]"
      ]
     },
     "execution_count": 12,
     "metadata": {},
     "output_type": "execute_result"
    }
   ],
   "source": [
    "anisou_df.tail()"
   ]
  },
  {
   "cell_type": "code",
   "execution_count": 13,
   "metadata": {},
   "outputs": [
    {
     "data": {
      "text/html": [
       "<div>\n",
       "<style scoped>\n",
       "    .dataframe tbody tr th:only-of-type {\n",
       "        vertical-align: middle;\n",
       "    }\n",
       "\n",
       "    .dataframe tbody tr th {\n",
       "        vertical-align: top;\n",
       "    }\n",
       "\n",
       "    .dataframe thead th {\n",
       "        text-align: right;\n",
       "    }\n",
       "</style>\n",
       "<table border=\"1\" class=\"dataframe\">\n",
       "  <thead>\n",
       "    <tr style=\"text-align: right;\">\n",
       "      <th></th>\n",
       "      <th>record_name</th>\n",
       "      <th>entry</th>\n",
       "      <th>line_idx</th>\n",
       "    </tr>\n",
       "  </thead>\n",
       "  <tbody>\n",
       "    <tr>\n",
       "      <th>0</th>\n",
       "      <td>TER</td>\n",
       "      <td>3318      LYS A 221</td>\n",
       "      <td>3317</td>\n",
       "    </tr>\n",
       "    <tr>\n",
       "      <th>1</th>\n",
       "      <td>END</td>\n",
       "      <td></td>\n",
       "      <td>3318</td>\n",
       "    </tr>\n",
       "  </tbody>\n",
       "</table>\n",
       "</div>"
      ],
      "text/plain": [
       "  record_name                 entry  line_idx\n",
       "0         TER   3318      LYS A 221      3317\n",
       "1         END                            3318"
      ]
     },
     "execution_count": 13,
     "metadata": {},
     "output_type": "execute_result"
    }
   ],
   "source": [
    "others_df.head()"
   ]
  },
  {
   "cell_type": "code",
   "execution_count": 51,
   "metadata": {},
   "outputs": [
    {
     "data": {
      "text/html": [
       "<div>\n",
       "<style scoped>\n",
       "    .dataframe tbody tr th:only-of-type {\n",
       "        vertical-align: middle;\n",
       "    }\n",
       "\n",
       "    .dataframe tbody tr th {\n",
       "        vertical-align: top;\n",
       "    }\n",
       "\n",
       "    .dataframe thead th {\n",
       "        text-align: right;\n",
       "    }\n",
       "</style>\n",
       "<table border=\"1\" class=\"dataframe\">\n",
       "  <thead>\n",
       "    <tr style=\"text-align: right;\">\n",
       "      <th></th>\n",
       "      <th>record_name</th>\n",
       "      <th>atom_number</th>\n",
       "      <th>blank_1</th>\n",
       "      <th>atom_name</th>\n",
       "      <th>alt_loc</th>\n",
       "      <th>residue_name</th>\n",
       "      <th>blank_2</th>\n",
       "      <th>chain_id</th>\n",
       "      <th>residue_number</th>\n",
       "      <th>insertion</th>\n",
       "      <th>blank_3</th>\n",
       "      <th>x_coord</th>\n",
       "      <th>y_coord</th>\n",
       "      <th>z_coord</th>\n",
       "      <th>occupancy</th>\n",
       "      <th>b_factor</th>\n",
       "      <th>blank_4</th>\n",
       "      <th>segment_id</th>\n",
       "      <th>element_symbol</th>\n",
       "      <th>charge</th>\n",
       "      <th>line_idx</th>\n",
       "    </tr>\n",
       "  </thead>\n",
       "  <tbody>\n",
       "    <tr>\n",
       "      <th>0</th>\n",
       "      <td>ATOM</td>\n",
       "      <td>1</td>\n",
       "      <td></td>\n",
       "      <td>N</td>\n",
       "      <td></td>\n",
       "      <td>VAL</td>\n",
       "      <td></td>\n",
       "      <td>A</td>\n",
       "      <td>1</td>\n",
       "      <td></td>\n",
       "      <td></td>\n",
       "      <td>34.064</td>\n",
       "      <td>-6.456</td>\n",
       "      <td>50.464</td>\n",
       "      <td>1.0</td>\n",
       "      <td>45.11</td>\n",
       "      <td></td>\n",
       "      <td></td>\n",
       "      <td>N</td>\n",
       "      <td>NaN</td>\n",
       "      <td>0</td>\n",
       "    </tr>\n",
       "    <tr>\n",
       "      <th>1</th>\n",
       "      <td>ATOM</td>\n",
       "      <td>2</td>\n",
       "      <td></td>\n",
       "      <td>H</td>\n",
       "      <td></td>\n",
       "      <td>VAL</td>\n",
       "      <td></td>\n",
       "      <td>A</td>\n",
       "      <td>1</td>\n",
       "      <td></td>\n",
       "      <td></td>\n",
       "      <td>33.576</td>\n",
       "      <td>-6.009</td>\n",
       "      <td>51.228</td>\n",
       "      <td>1.0</td>\n",
       "      <td>45.11</td>\n",
       "      <td></td>\n",
       "      <td></td>\n",
       "      <td>H</td>\n",
       "      <td>NaN</td>\n",
       "      <td>1</td>\n",
       "    </tr>\n",
       "    <tr>\n",
       "      <th>2</th>\n",
       "      <td>ATOM</td>\n",
       "      <td>3</td>\n",
       "      <td></td>\n",
       "      <td>H2</td>\n",
       "      <td></td>\n",
       "      <td>VAL</td>\n",
       "      <td></td>\n",
       "      <td>A</td>\n",
       "      <td>1</td>\n",
       "      <td></td>\n",
       "      <td></td>\n",
       "      <td>33.882</td>\n",
       "      <td>-7.449</td>\n",
       "      <td>50.477</td>\n",
       "      <td>1.0</td>\n",
       "      <td>45.11</td>\n",
       "      <td></td>\n",
       "      <td></td>\n",
       "      <td>H</td>\n",
       "      <td>NaN</td>\n",
       "      <td>2</td>\n",
       "    </tr>\n",
       "    <tr>\n",
       "      <th>3</th>\n",
       "      <td>ATOM</td>\n",
       "      <td>4</td>\n",
       "      <td></td>\n",
       "      <td>H3</td>\n",
       "      <td></td>\n",
       "      <td>VAL</td>\n",
       "      <td></td>\n",
       "      <td>A</td>\n",
       "      <td>1</td>\n",
       "      <td></td>\n",
       "      <td></td>\n",
       "      <td>35.060</td>\n",
       "      <td>-6.323</td>\n",
       "      <td>50.566</td>\n",
       "      <td>1.0</td>\n",
       "      <td>45.11</td>\n",
       "      <td></td>\n",
       "      <td></td>\n",
       "      <td>H</td>\n",
       "      <td>NaN</td>\n",
       "      <td>3</td>\n",
       "    </tr>\n",
       "    <tr>\n",
       "      <th>4</th>\n",
       "      <td>ATOM</td>\n",
       "      <td>5</td>\n",
       "      <td></td>\n",
       "      <td>CA</td>\n",
       "      <td></td>\n",
       "      <td>VAL</td>\n",
       "      <td></td>\n",
       "      <td>A</td>\n",
       "      <td>1</td>\n",
       "      <td></td>\n",
       "      <td></td>\n",
       "      <td>33.643</td>\n",
       "      <td>-5.877</td>\n",
       "      <td>49.162</td>\n",
       "      <td>1.0</td>\n",
       "      <td>45.11</td>\n",
       "      <td></td>\n",
       "      <td></td>\n",
       "      <td>C</td>\n",
       "      <td>NaN</td>\n",
       "      <td>4</td>\n",
       "    </tr>\n",
       "    <tr>\n",
       "      <th>...</th>\n",
       "      <td>...</td>\n",
       "      <td>...</td>\n",
       "      <td>...</td>\n",
       "      <td>...</td>\n",
       "      <td>...</td>\n",
       "      <td>...</td>\n",
       "      <td>...</td>\n",
       "      <td>...</td>\n",
       "      <td>...</td>\n",
       "      <td>...</td>\n",
       "      <td>...</td>\n",
       "      <td>...</td>\n",
       "      <td>...</td>\n",
       "      <td>...</td>\n",
       "      <td>...</td>\n",
       "      <td>...</td>\n",
       "      <td>...</td>\n",
       "      <td>...</td>\n",
       "      <td>...</td>\n",
       "      <td>...</td>\n",
       "      <td>...</td>\n",
       "    </tr>\n",
       "    <tr>\n",
       "      <th>3312</th>\n",
       "      <td>ATOM</td>\n",
       "      <td>3313</td>\n",
       "      <td></td>\n",
       "      <td>NZ</td>\n",
       "      <td></td>\n",
       "      <td>LYS</td>\n",
       "      <td></td>\n",
       "      <td>A</td>\n",
       "      <td>221</td>\n",
       "      <td></td>\n",
       "      <td></td>\n",
       "      <td>4.616</td>\n",
       "      <td>13.323</td>\n",
       "      <td>-4.301</td>\n",
       "      <td>1.0</td>\n",
       "      <td>93.80</td>\n",
       "      <td></td>\n",
       "      <td></td>\n",
       "      <td>N</td>\n",
       "      <td>NaN</td>\n",
       "      <td>3312</td>\n",
       "    </tr>\n",
       "    <tr>\n",
       "      <th>3313</th>\n",
       "      <td>ATOM</td>\n",
       "      <td>3314</td>\n",
       "      <td></td>\n",
       "      <td>HZ1</td>\n",
       "      <td></td>\n",
       "      <td>LYS</td>\n",
       "      <td></td>\n",
       "      <td>A</td>\n",
       "      <td>221</td>\n",
       "      <td></td>\n",
       "      <td></td>\n",
       "      <td>5.270</td>\n",
       "      <td>12.565</td>\n",
       "      <td>-4.432</td>\n",
       "      <td>1.0</td>\n",
       "      <td>93.80</td>\n",
       "      <td></td>\n",
       "      <td></td>\n",
       "      <td>H</td>\n",
       "      <td>NaN</td>\n",
       "      <td>3313</td>\n",
       "    </tr>\n",
       "    <tr>\n",
       "      <th>3314</th>\n",
       "      <td>ATOM</td>\n",
       "      <td>3315</td>\n",
       "      <td></td>\n",
       "      <td>HZ2</td>\n",
       "      <td></td>\n",
       "      <td>LYS</td>\n",
       "      <td></td>\n",
       "      <td>A</td>\n",
       "      <td>221</td>\n",
       "      <td></td>\n",
       "      <td></td>\n",
       "      <td>4.585</td>\n",
       "      <td>13.517</td>\n",
       "      <td>-3.310</td>\n",
       "      <td>1.0</td>\n",
       "      <td>93.80</td>\n",
       "      <td></td>\n",
       "      <td></td>\n",
       "      <td>H</td>\n",
       "      <td>NaN</td>\n",
       "      <td>3314</td>\n",
       "    </tr>\n",
       "    <tr>\n",
       "      <th>3315</th>\n",
       "      <td>ATOM</td>\n",
       "      <td>3316</td>\n",
       "      <td></td>\n",
       "      <td>HZ3</td>\n",
       "      <td></td>\n",
       "      <td>LYS</td>\n",
       "      <td></td>\n",
       "      <td>A</td>\n",
       "      <td>221</td>\n",
       "      <td></td>\n",
       "      <td></td>\n",
       "      <td>4.965</td>\n",
       "      <td>14.143</td>\n",
       "      <td>-4.776</td>\n",
       "      <td>1.0</td>\n",
       "      <td>93.80</td>\n",
       "      <td></td>\n",
       "      <td></td>\n",
       "      <td>H</td>\n",
       "      <td>NaN</td>\n",
       "      <td>3315</td>\n",
       "    </tr>\n",
       "    <tr>\n",
       "      <th>3316</th>\n",
       "      <td>ATOM</td>\n",
       "      <td>3317</td>\n",
       "      <td></td>\n",
       "      <td>OXT</td>\n",
       "      <td></td>\n",
       "      <td>LYS</td>\n",
       "      <td></td>\n",
       "      <td>A</td>\n",
       "      <td>221</td>\n",
       "      <td></td>\n",
       "      <td></td>\n",
       "      <td>1.511</td>\n",
       "      <td>13.763</td>\n",
       "      <td>-11.203</td>\n",
       "      <td>1.0</td>\n",
       "      <td>93.80</td>\n",
       "      <td></td>\n",
       "      <td></td>\n",
       "      <td>O</td>\n",
       "      <td>NaN</td>\n",
       "      <td>3316</td>\n",
       "    </tr>\n",
       "  </tbody>\n",
       "</table>\n",
       "<p>3317 rows × 21 columns</p>\n",
       "</div>"
      ],
      "text/plain": [
       "     record_name  atom_number blank_1 atom_name alt_loc residue_name blank_2  \\\n",
       "0           ATOM            1                 N                  VAL           \n",
       "1           ATOM            2                 H                  VAL           \n",
       "2           ATOM            3                H2                  VAL           \n",
       "3           ATOM            4                H3                  VAL           \n",
       "4           ATOM            5                CA                  VAL           \n",
       "...          ...          ...     ...       ...     ...          ...     ...   \n",
       "3312        ATOM         3313                NZ                  LYS           \n",
       "3313        ATOM         3314               HZ1                  LYS           \n",
       "3314        ATOM         3315               HZ2                  LYS           \n",
       "3315        ATOM         3316               HZ3                  LYS           \n",
       "3316        ATOM         3317               OXT                  LYS           \n",
       "\n",
       "     chain_id  residue_number insertion blank_3  x_coord  y_coord  z_coord  \\\n",
       "0           A               1                     34.064   -6.456   50.464   \n",
       "1           A               1                     33.576   -6.009   51.228   \n",
       "2           A               1                     33.882   -7.449   50.477   \n",
       "3           A               1                     35.060   -6.323   50.566   \n",
       "4           A               1                     33.643   -5.877   49.162   \n",
       "...       ...             ...       ...     ...      ...      ...      ...   \n",
       "3312        A             221                      4.616   13.323   -4.301   \n",
       "3313        A             221                      5.270   12.565   -4.432   \n",
       "3314        A             221                      4.585   13.517   -3.310   \n",
       "3315        A             221                      4.965   14.143   -4.776   \n",
       "3316        A             221                      1.511   13.763  -11.203   \n",
       "\n",
       "      occupancy  b_factor blank_4 segment_id element_symbol  charge  line_idx  \n",
       "0           1.0     45.11                                 N     NaN         0  \n",
       "1           1.0     45.11                                 H     NaN         1  \n",
       "2           1.0     45.11                                 H     NaN         2  \n",
       "3           1.0     45.11                                 H     NaN         3  \n",
       "4           1.0     45.11                                 C     NaN         4  \n",
       "...         ...       ...     ...        ...            ...     ...       ...  \n",
       "3312        1.0     93.80                                 N     NaN      3312  \n",
       "3313        1.0     93.80                                 H     NaN      3313  \n",
       "3314        1.0     93.80                                 H     NaN      3314  \n",
       "3315        1.0     93.80                                 H     NaN      3315  \n",
       "3316        1.0     93.80                                 O     NaN      3316  \n",
       "\n",
       "[3317 rows x 21 columns]"
      ]
     },
     "execution_count": 51,
     "metadata": {},
     "output_type": "execute_result"
    }
   ],
   "source": [
    "atom_df"
   ]
  },
  {
   "cell_type": "markdown",
   "metadata": {},
   "source": [
    "## 2.2 Visualize the b_factor\n",
    "\n",
    "The B-factor describes the displacement of the atomic positions from an average (mean) value (mean-square displacement).\n",
    "\n",
    "The core of the molecule usually has low B-factors, due to tight packing of the side chains (enzyme active sites are usually located there). The values of the B-factors are normally between 15 to 30 (sq. Angstroms), but often much higher than 30 for flexible regions.\n",
    "\n",
    "Code by Sowmyalr  https://www.kaggle.com/code/lrsowmya/biopandas-for-analysing-pdb-files"
   ]
  },
  {
   "cell_type": "code",
   "execution_count": 15,
   "metadata": {},
   "outputs": [
    {
     "data": {
      "image/png": "[encoded data removed]",
      "text/plain": [
       "<Figure size 432x288 with 1 Axes>"
      ]
     },
     "metadata": {
      "needs_background": "light"
     },
     "output_type": "display_data"
    }
   ],
   "source": [
    "# Code by Sowmyalr  https://www.kaggle.com/code/lrsowmya/biopandas-for-analysing-pdb-files\n",
    "\n",
    "atom_df['b_factor'].plot(kind='hist')\n",
    "plt.title('Novozymes B Factor')\n",
    "plt.xlabel('B-Factor');"
   ]
  },
  {
   "cell_type": "markdown",
   "metadata": {},
   "source": [
    "### Insights from the above findings\n",
    "\n",
    "It is observed that Novozymes has high B factor which means it is not tightly packed."
   ]
  },
  {
   "cell_type": "code",
   "execution_count": 16,
   "metadata": {},
   "outputs": [
    {
     "data": {
      "text/plain": [
       "array(['N', 'H', 'C', 'O', 'S'], dtype=object)"
      ]
     },
     "execution_count": 16,
     "metadata": {},
     "output_type": "execute_result"
    }
   ],
   "source": [
    "# Code by Sowmyalr  https://www.kaggle.com/code/lrsowmya/biopandas-for-analysing-pdb-files\n",
    "\n",
    "atom_df.element_symbol.unique()"
   ]
  },
  {
   "cell_type": "markdown",
   "metadata": {},
   "source": [
    "### Debye-Waller Factor. The B-Factor Definition\n",
    "\n",
    "\"The temperature factor (also called the temperature value, B factor, B value, or Debye-Waller factor) is\"\n",
    "\n",
    "\"A factor that can be applied to the X-ray scattering term for each atom (or for groups of atoms) that describes the degree to which the electron density is spread out. While the theory is that the B-factor indicates the true static or dynamic mobility of an atom, it can also indicate where there are errors in model building.\"\n",
    "\n",
    "The B-factor is given by\n",
    "\n",
    "$B_i = 8π^2U_i^2$\n",
    "\n",
    "\"Where $U_i^2$ is the mean square displacement of atom i. As U increases, the B-factor increases and the contribution of the atom to the scattering is decreased. If atoms are incorrectly positioned in the model, their B-factors will tend to be higher than correctly positioned atoms nearby[3]. For a B-factor of 15 $Å^2$, the mean square displacement of an atom from its equilibrium position is approximately 0.44 Å, and approximately 0.87 Å for a B-factor of 60 $Å^2$. For comparison, the van der Waals diameter of a carbon atom is 3.4 Å\".\n",
    "\n",
    "https://proteopedia.org/wiki/index.php/Temperature"
   ]
  },
  {
   "cell_type": "code",
   "execution_count": 17,
   "metadata": {},
   "outputs": [
    {
     "data": {
      "image/png": "[encoded data removed]",
      "text/plain": [
       "<Figure size 432x288 with 1 Axes>"
      ]
     },
     "metadata": {
      "needs_background": "light"
     },
     "output_type": "display_data"
    }
   ],
   "source": [
    "# Code by Sowmyalr  https://www.kaggle.com/code/lrsowmya/biopandas-for-analysing-pdb-files\n",
    "\n",
    "atom_df['element_symbol'].value_counts().plot(kind='bar')\n",
    "plt.title('Element symbol distribution')\n",
    "plt.ylabel('Count')\n",
    "plt.xlabel('Element symbol');"
   ]
  },
  {
   "cell_type": "markdown",
   "metadata": {},
   "source": [
    "#Temperature Value/Factor and PDB file format\n",
    "\n",
    "\"The temperature value is recorded in the atomic coordinate file. In the PDB file format, it is the last numeric value (columns 61-66) in each ATOM and HETATM record. Coloring by temperature is a common way to visualize the uncertainty for each atom.\"\n",
    "\n",
    "\"PDB files for models determined by cryo-EM often specify values in the temperature/B factor field. However, a 2017 analysis concluded that \"the treatment of the atomic displacement (B) factors was meaningless in almost all analyzed cryo-EM models\".\n",
    "\n",
    "https://proteopedia.org/wiki/index.php/Temperature"
   ]
  },
  {
   "cell_type": "code",
   "execution_count": 18,
   "metadata": {},
   "outputs": [
    {
     "data": {
      "image/png": "[encoded data removed]",
      "text/plain": [
       "<Figure size 720x576 with 1 Axes>"
      ]
     },
     "metadata": {
      "needs_background": "light"
     },
     "output_type": "display_data"
    }
   ],
   "source": [
    "#Code by Sowmyalr  https://www.kaggle.com/code/lrsowmya/biopandas-for-analysing-pdb-files\n",
    "\n",
    "atom_df['atom_name'].value_counts().plot(kind='bar', figsize=(10,8), color='r')\n",
    "plt.title('Atom name distribution')\n",
    "plt.ylabel('Count')\n",
    "plt.xlabel('atom_name symbol');"
   ]
  },
  {
   "cell_type": "markdown",
   "metadata": {},
   "source": [
    "### Utility of B-Factors in Protein Science\n",
    "\n",
    "Utility of B-Factors in Protein Science: Interpreting Rigidity, Flexibility, and Internal Motion and Engineering Thermostability\n",
    "\n",
    "Authors: Zhoutong Sun , Qian Liu , Ge Qu , Yan Feng , Manfred T Reetz - Chem Rev\n",
    ". 2019 Feb 13;119(3):1626-1665. doi: 10.1021/acs.chemrev.8b00290.\n",
    "\n",
    "\"The term B-factor, sometimes called the Debye-Waller factor, temperature factor, or atomic displacement parameter, is used in protein crystallography to describe the attenuation of X-ray or neutron scattering caused by thermal motion.\"\n",
    "\n",
    "\"That review begins with analyses of early protein studies which suggested that B-factors, available from the Protein Data Bank, can be used to identify the flexibility of atoms, side chains, or even whole regions. This requires a technique for obtaining normalized B-factors.\"\n",
    "\n",
    "\"Since then the exploitation of B-factors has been extensively elaborated and applied in a variety of studies with quite different goals, all having in common the identification and interpretation of rigidity, flexibility, and/or internal motion which are crucial in enzymes and in proteins in general. Importantly, that review includes a discussion of limitations and possible pitfalls when using B-factors.\"\n",
    "\n",
    "\" A second research area, which likewise exploits B-factors, is also reviewed, namely, the development of the so-called B-FIT ('B-factor iterative test') directed evolution method for increasing the thermostability of enzymes as catalysts in organic chemistry and biotechnology.\"\n",
    "\n",
    "\"In both research areas, a maximum of structural and mechanistic insights is gained when B-factor analyses are combined with other experimental and computational techniques.\"\n",
    "\n",
    "https://pubmed.ncbi.nlm.nih.gov/30698416/"
   ]
  },
  {
   "cell_type": "code",
   "execution_count": 19,
   "metadata": {},
   "outputs": [],
   "source": [
    "ppdb_df =  PandasPdb().read_pdb('wildtype_structure_prediction_af2.pdb')"
   ]
  },
  {
   "cell_type": "code",
   "execution_count": 20,
   "metadata": {},
   "outputs": [],
   "source": [
    "catom_df = ppdb_df.df['ATOM']\n",
    "chtm_df = ppdb_df.df['HETATM']"
   ]
  },
  {
   "cell_type": "code",
   "execution_count": 21,
   "metadata": {},
   "outputs": [
    {
     "data": {
      "text/html": [
       "<div>\n",
       "<style scoped>\n",
       "    .dataframe tbody tr th:only-of-type {\n",
       "        vertical-align: middle;\n",
       "    }\n",
       "\n",
       "    .dataframe tbody tr th {\n",
       "        vertical-align: top;\n",
       "    }\n",
       "\n",
       "    .dataframe thead th {\n",
       "        text-align: right;\n",
       "    }\n",
       "</style>\n",
       "<table border=\"1\" class=\"dataframe\">\n",
       "  <thead>\n",
       "    <tr style=\"text-align: right;\">\n",
       "      <th></th>\n",
       "      <th>record_name</th>\n",
       "      <th>atom_number</th>\n",
       "      <th>blank_1</th>\n",
       "      <th>atom_name</th>\n",
       "      <th>alt_loc</th>\n",
       "      <th>residue_name</th>\n",
       "      <th>blank_2</th>\n",
       "      <th>chain_id</th>\n",
       "      <th>residue_number</th>\n",
       "      <th>insertion</th>\n",
       "      <th>...</th>\n",
       "      <th>x_coord</th>\n",
       "      <th>y_coord</th>\n",
       "      <th>z_coord</th>\n",
       "      <th>occupancy</th>\n",
       "      <th>b_factor</th>\n",
       "      <th>blank_4</th>\n",
       "      <th>segment_id</th>\n",
       "      <th>element_symbol</th>\n",
       "      <th>charge</th>\n",
       "      <th>line_idx</th>\n",
       "    </tr>\n",
       "  </thead>\n",
       "  <tbody>\n",
       "    <tr>\n",
       "      <th>0</th>\n",
       "      <td>ATOM</td>\n",
       "      <td>1</td>\n",
       "      <td></td>\n",
       "      <td>N</td>\n",
       "      <td></td>\n",
       "      <td>VAL</td>\n",
       "      <td></td>\n",
       "      <td>A</td>\n",
       "      <td>1</td>\n",
       "      <td></td>\n",
       "      <td>...</td>\n",
       "      <td>34.064</td>\n",
       "      <td>-6.456</td>\n",
       "      <td>50.464</td>\n",
       "      <td>1.0</td>\n",
       "      <td>45.11</td>\n",
       "      <td></td>\n",
       "      <td></td>\n",
       "      <td>N</td>\n",
       "      <td>NaN</td>\n",
       "      <td>0</td>\n",
       "    </tr>\n",
       "    <tr>\n",
       "      <th>1</th>\n",
       "      <td>ATOM</td>\n",
       "      <td>2</td>\n",
       "      <td></td>\n",
       "      <td>H</td>\n",
       "      <td></td>\n",
       "      <td>VAL</td>\n",
       "      <td></td>\n",
       "      <td>A</td>\n",
       "      <td>1</td>\n",
       "      <td></td>\n",
       "      <td>...</td>\n",
       "      <td>33.576</td>\n",
       "      <td>-6.009</td>\n",
       "      <td>51.228</td>\n",
       "      <td>1.0</td>\n",
       "      <td>45.11</td>\n",
       "      <td></td>\n",
       "      <td></td>\n",
       "      <td>H</td>\n",
       "      <td>NaN</td>\n",
       "      <td>1</td>\n",
       "    </tr>\n",
       "    <tr>\n",
       "      <th>2</th>\n",
       "      <td>ATOM</td>\n",
       "      <td>3</td>\n",
       "      <td></td>\n",
       "      <td>H2</td>\n",
       "      <td></td>\n",
       "      <td>VAL</td>\n",
       "      <td></td>\n",
       "      <td>A</td>\n",
       "      <td>1</td>\n",
       "      <td></td>\n",
       "      <td>...</td>\n",
       "      <td>33.882</td>\n",
       "      <td>-7.449</td>\n",
       "      <td>50.477</td>\n",
       "      <td>1.0</td>\n",
       "      <td>45.11</td>\n",
       "      <td></td>\n",
       "      <td></td>\n",
       "      <td>H</td>\n",
       "      <td>NaN</td>\n",
       "      <td>2</td>\n",
       "    </tr>\n",
       "    <tr>\n",
       "      <th>3</th>\n",
       "      <td>ATOM</td>\n",
       "      <td>4</td>\n",
       "      <td></td>\n",
       "      <td>H3</td>\n",
       "      <td></td>\n",
       "      <td>VAL</td>\n",
       "      <td></td>\n",
       "      <td>A</td>\n",
       "      <td>1</td>\n",
       "      <td></td>\n",
       "      <td>...</td>\n",
       "      <td>35.060</td>\n",
       "      <td>-6.323</td>\n",
       "      <td>50.566</td>\n",
       "      <td>1.0</td>\n",
       "      <td>45.11</td>\n",
       "      <td></td>\n",
       "      <td></td>\n",
       "      <td>H</td>\n",
       "      <td>NaN</td>\n",
       "      <td>3</td>\n",
       "    </tr>\n",
       "    <tr>\n",
       "      <th>4</th>\n",
       "      <td>ATOM</td>\n",
       "      <td>5</td>\n",
       "      <td></td>\n",
       "      <td>CA</td>\n",
       "      <td></td>\n",
       "      <td>VAL</td>\n",
       "      <td></td>\n",
       "      <td>A</td>\n",
       "      <td>1</td>\n",
       "      <td></td>\n",
       "      <td>...</td>\n",
       "      <td>33.643</td>\n",
       "      <td>-5.877</td>\n",
       "      <td>49.162</td>\n",
       "      <td>1.0</td>\n",
       "      <td>45.11</td>\n",
       "      <td></td>\n",
       "      <td></td>\n",
       "      <td>C</td>\n",
       "      <td>NaN</td>\n",
       "      <td>4</td>\n",
       "    </tr>\n",
       "  </tbody>\n",
       "</table>\n",
       "<p>5 rows × 21 columns</p>\n",
       "</div>"
      ],
      "text/plain": [
       "  record_name  atom_number blank_1 atom_name alt_loc residue_name blank_2  \\\n",
       "0        ATOM            1                 N                  VAL           \n",
       "1        ATOM            2                 H                  VAL           \n",
       "2        ATOM            3                H2                  VAL           \n",
       "3        ATOM            4                H3                  VAL           \n",
       "4        ATOM            5                CA                  VAL           \n",
       "\n",
       "  chain_id  residue_number insertion  ... x_coord  y_coord  z_coord  \\\n",
       "0        A               1            ...  34.064   -6.456   50.464   \n",
       "1        A               1            ...  33.576   -6.009   51.228   \n",
       "2        A               1            ...  33.882   -7.449   50.477   \n",
       "3        A               1            ...  35.060   -6.323   50.566   \n",
       "4        A               1            ...  33.643   -5.877   49.162   \n",
       "\n",
       "   occupancy  b_factor  blank_4 segment_id element_symbol charge  line_idx  \n",
       "0        1.0     45.11                                  N    NaN         0  \n",
       "1        1.0     45.11                                  H    NaN         1  \n",
       "2        1.0     45.11                                  H    NaN         2  \n",
       "3        1.0     45.11                                  H    NaN         3  \n",
       "4        1.0     45.11                                  C    NaN         4  \n",
       "\n",
       "[5 rows x 21 columns]"
      ]
     },
     "execution_count": 21,
     "metadata": {},
     "output_type": "execute_result"
    }
   ],
   "source": [
    "catom_df.head()"
   ]
  },
  {
   "cell_type": "markdown",
   "metadata": {},
   "source": [
    "### Protein Thermostability. B-FIT Method.\n",
    "\n",
    "Enhancement of protein thermostability by three consecutive mutations using loop-walking method and machine learning\n",
    "\n",
    "Citation: Yoshida, K., Kawai, S., Fujitani, M. et al. Enhancement of protein thermostability by three consecutive mutations using loop-walking method and machine learning. Sci Rep 11, 11883 (2021). https://doi.org/10.1038/s41598-021-91339-4\n",
    "\n",
    "\"The authors developed a method to improve protein thermostability, “loop-walking method”. Three consecutive positions in 12 loops of Burkholderia cepacia lipase were subjected to random mutagenesis to make 12 libraries. Screening allowed us to identify L7 as a hot-spot loop having an impact on thermostability, and the P233G/L234E/V235M mutant was found from 214 variants in the L7 library.\"\n",
    "\n",
    "TEMPERATURE, pH, SOLVENT and LOOP STRUCTURES\n",
    "\n",
    "\" Loop structures are susceptible to temperature, pH, and solvent, and frequently show high B-factors; the B factor is a crystallographic temperature factor, which can be used as an index for predicting destabilization sites. B-FIT is a method that combines the B-factor with directed evolution, and the thermostability of Bacillus subtilis lipase has been improved.\"\n",
    "\n",
    "\"Thermostability and optimum temperature\"\n",
    "\n",
    "\"The thermostability of mutants was evaluated by comparing the residual activity of the samples that were heat-treated at each temperature (from 40 to 70 °C) for 30 min. The optimum temperature was evaluated by comparing the hydrolytic activity of the sample at each temperature (from 40 to 70 °C). \"\n",
    "\n",
    "https://www.nature.com/articles/s41598-021-91339-4"
   ]
  },
  {
   "cell_type": "markdown",
   "metadata": {},
   "source": [
    "## Visualizations with Biokit"
   ]
  },
  {
   "cell_type": "code",
   "execution_count": 22,
   "metadata": {},
   "outputs": [
    {
     "name": "stdout",
     "output_type": "stream",
     "text": [
      "Collecting biokit\n",
      "  Downloading biokit-0.5.0.tar.gz (162 kB)\n",
      "\u001b[K     |████████████████████████████████| 162 kB 1.9 MB/s eta 0:00:01\n",
      "\u001b[?25hCollecting easydev>=0.9.34\n",
      "  Downloading easydev-0.12.0.tar.gz (47 kB)\n",
      "\u001b[K     |████████████████████████████████| 47 kB 5.4 MB/s eta 0:00:01\n",
      "\u001b[?25hRequirement already satisfied: pandas in /Users/amosfang/opt/anaconda3/lib/python3.8/site-packages (from biokit) (1.0.5)\n",
      "Collecting bioservices>=1.4.5\n",
      "  Downloading bioservices-1.10.4.tar.gz (197 kB)\n",
      "\u001b[K     |████████████████████████████████| 197 kB 4.3 MB/s eta 0:00:01\n",
      "\u001b[?25hCollecting colormap\n",
      "  Downloading colormap-1.0.4.tar.gz (17 kB)\n",
      "Requirement already satisfied: scipy in /Users/amosfang/opt/anaconda3/lib/python3.8/site-packages (from biokit) (1.5.0)\n",
      "Collecting biopython\n",
      "  Downloading biopython-1.79-cp38-cp38-macosx_10_9_x86_64.whl (2.3 MB)\n",
      "\u001b[K     |████████████████████████████████| 2.3 MB 9.0 MB/s eta 0:00:01\n",
      "\u001b[?25hRequirement already satisfied: matplotlib in /Users/amosfang/opt/anaconda3/lib/python3.8/site-packages (from biokit) (3.2.2)\n",
      "Requirement already satisfied: numpydoc in /Users/amosfang/opt/anaconda3/lib/python3.8/site-packages (from biokit) (1.1.0)\n",
      "Collecting colorlog\n",
      "  Downloading colorlog-6.7.0-py2.py3-none-any.whl (11 kB)\n",
      "Requirement already satisfied: colorama in /Users/amosfang/opt/anaconda3/lib/python3.8/site-packages (from easydev>=0.9.34->biokit) (0.4.3)\n",
      "Requirement already satisfied: pexpect in /Users/amosfang/opt/anaconda3/lib/python3.8/site-packages (from easydev>=0.9.34->biokit) (4.8.0)\n",
      "Requirement already satisfied: pytz>=2017.2 in /Users/amosfang/opt/anaconda3/lib/python3.8/site-packages (from pandas->biokit) (2020.1)\n",
      "Requirement already satisfied: python-dateutil>=2.6.1 in /Users/amosfang/opt/anaconda3/lib/python3.8/site-packages (from pandas->biokit) (2.8.1)\n",
      "Requirement already satisfied: numpy>=1.13.3 in /Users/amosfang/opt/anaconda3/lib/python3.8/site-packages (from pandas->biokit) (1.18.5)\n",
      "Collecting appdirs\n",
      "  Using cached appdirs-1.4.4-py2.py3-none-any.whl (9.6 kB)\n",
      "Requirement already satisfied: beautifulsoup4 in /Users/amosfang/opt/anaconda3/lib/python3.8/site-packages (from bioservices>=1.4.5->biokit) (4.9.1)\n",
      "Collecting grequests\n",
      "  Downloading grequests-0.6.0-py3-none-any.whl (5.2 kB)\n",
      "Requirement already satisfied: requests in /Users/amosfang/opt/anaconda3/lib/python3.8/site-packages (from bioservices>=1.4.5->biokit) (2.24.0)\n",
      "Collecting requests_cache\n",
      "  Downloading requests_cache-0.9.6-py3-none-any.whl (47 kB)\n",
      "\u001b[K     |████████████████████████████████| 47 kB 4.0 MB/s eta 0:00:01\n",
      "\u001b[?25hCollecting suds-community>=0.7\n",
      "  Downloading suds_community-1.1.2-py3-none-any.whl (144 kB)\n",
      "\u001b[K     |████████████████████████████████| 144 kB 4.0 MB/s eta 0:00:01\n",
      "\u001b[?25hRequirement already satisfied: lxml in /Users/amosfang/opt/anaconda3/lib/python3.8/site-packages (from bioservices>=1.4.5->biokit) (4.5.2)\n",
      "Requirement already satisfied: tqdm in /Users/amosfang/opt/anaconda3/lib/python3.8/site-packages (from bioservices>=1.4.5->biokit) (4.47.0)\n",
      "Requirement already satisfied: wrapt in /Users/amosfang/opt/anaconda3/lib/python3.8/site-packages (from bioservices>=1.4.5->biokit) (1.11.2)\n",
      "Requirement already satisfied: xmltodict in /Users/amosfang/opt/anaconda3/lib/python3.8/site-packages (from bioservices>=1.4.5->biokit) (0.12.0)\n",
      "Requirement already satisfied: kiwisolver>=1.0.1 in /Users/amosfang/opt/anaconda3/lib/python3.8/site-packages (from matplotlib->biokit) (1.2.0)\n",
      "Requirement already satisfied: cycler>=0.10 in /Users/amosfang/opt/anaconda3/lib/python3.8/site-packages (from matplotlib->biokit) (0.10.0)\n",
      "Requirement already satisfied: pyparsing!=2.0.4,!=2.1.2,!=2.1.6,>=2.0.1 in /Users/amosfang/opt/anaconda3/lib/python3.8/site-packages (from matplotlib->biokit) (2.4.7)\n",
      "Requirement already satisfied: Jinja2>=2.3 in /Users/amosfang/opt/anaconda3/lib/python3.8/site-packages (from numpydoc->biokit) (2.11.2)\n",
      "Requirement already satisfied: sphinx>=1.6.5 in /Users/amosfang/opt/anaconda3/lib/python3.8/site-packages (from numpydoc->biokit) (3.1.2)\n",
      "Requirement already satisfied: ptyprocess>=0.5 in /Users/amosfang/opt/anaconda3/lib/python3.8/site-packages (from pexpect->easydev>=0.9.34->biokit) (0.6.0)\n",
      "Requirement already satisfied: six>=1.5 in /Users/amosfang/opt/anaconda3/lib/python3.8/site-packages (from python-dateutil>=2.6.1->pandas->biokit) (1.15.0)\n",
      "Requirement already satisfied: soupsieve>1.2 in /Users/amosfang/opt/anaconda3/lib/python3.8/site-packages (from beautifulsoup4->bioservices>=1.4.5->biokit) (2.0.1)\n",
      "Requirement already satisfied: gevent in /Users/amosfang/opt/anaconda3/lib/python3.8/site-packages (from grequests->bioservices>=1.4.5->biokit) (20.6.2)\n",
      "Requirement already satisfied: idna<3,>=2.5 in /Users/amosfang/opt/anaconda3/lib/python3.8/site-packages (from requests->bioservices>=1.4.5->biokit) (2.10)\n",
      "Requirement already satisfied: chardet<4,>=3.0.2 in /Users/amosfang/opt/anaconda3/lib/python3.8/site-packages (from requests->bioservices>=1.4.5->biokit) (3.0.4)\n",
      "Requirement already satisfied: urllib3!=1.25.0,!=1.25.1,<1.26,>=1.21.1 in /Users/amosfang/opt/anaconda3/lib/python3.8/site-packages (from requests->bioservices>=1.4.5->biokit) (1.25.9)\n",
      "Requirement already satisfied: certifi>=2017.4.17 in /Users/amosfang/opt/anaconda3/lib/python3.8/site-packages (from requests->bioservices>=1.4.5->biokit) (2020.6.20)\n",
      "Collecting attrs>=21.2\n",
      "  Downloading attrs-22.1.0-py2.py3-none-any.whl (58 kB)\n",
      "\u001b[K     |████████████████████████████████| 58 kB 5.2 MB/s eta 0:00:011\n",
      "\u001b[?25hCollecting url-normalize>=1.4\n",
      "  Downloading url_normalize-1.4.3-py2.py3-none-any.whl (6.8 kB)\n",
      "Collecting cattrs>=1.8\n",
      "  Downloading cattrs-22.2.0-py3-none-any.whl (35 kB)\n",
      "Requirement already satisfied: MarkupSafe>=0.23 in /Users/amosfang/opt/anaconda3/lib/python3.8/site-packages (from Jinja2>=2.3->numpydoc->biokit) (1.1.1)\n",
      "Requirement already satisfied: packaging in /Users/amosfang/opt/anaconda3/lib/python3.8/site-packages (from sphinx>=1.6.5->numpydoc->biokit) (20.4)\n",
      "Requirement already satisfied: sphinxcontrib-htmlhelp in /Users/amosfang/opt/anaconda3/lib/python3.8/site-packages (from sphinx>=1.6.5->numpydoc->biokit) (1.0.3)\n",
      "Requirement already satisfied: sphinxcontrib-devhelp in /Users/amosfang/opt/anaconda3/lib/python3.8/site-packages (from sphinx>=1.6.5->numpydoc->biokit) (1.0.2)\n",
      "Requirement already satisfied: setuptools in /Users/amosfang/opt/anaconda3/lib/python3.8/site-packages (from sphinx>=1.6.5->numpydoc->biokit) (49.2.0.post20200714)\n",
      "Requirement already satisfied: docutils>=0.12 in /Users/amosfang/opt/anaconda3/lib/python3.8/site-packages (from sphinx>=1.6.5->numpydoc->biokit) (0.16)\n",
      "Requirement already satisfied: Pygments>=2.0 in /Users/amosfang/opt/anaconda3/lib/python3.8/site-packages (from sphinx>=1.6.5->numpydoc->biokit) (2.6.1)\n",
      "Requirement already satisfied: sphinxcontrib-serializinghtml in /Users/amosfang/opt/anaconda3/lib/python3.8/site-packages (from sphinx>=1.6.5->numpydoc->biokit) (1.1.4)\n",
      "Requirement already satisfied: babel>=1.3 in /Users/amosfang/opt/anaconda3/lib/python3.8/site-packages (from sphinx>=1.6.5->numpydoc->biokit) (2.8.0)\n",
      "Requirement already satisfied: sphinxcontrib-qthelp in /Users/amosfang/opt/anaconda3/lib/python3.8/site-packages (from sphinx>=1.6.5->numpydoc->biokit) (1.0.3)\n",
      "Requirement already satisfied: imagesize in /Users/amosfang/opt/anaconda3/lib/python3.8/site-packages (from sphinx>=1.6.5->numpydoc->biokit) (1.2.0)\n",
      "Requirement already satisfied: sphinxcontrib-applehelp in /Users/amosfang/opt/anaconda3/lib/python3.8/site-packages (from sphinx>=1.6.5->numpydoc->biokit) (1.0.2)\n",
      "Requirement already satisfied: sphinxcontrib-jsmath in /Users/amosfang/opt/anaconda3/lib/python3.8/site-packages (from sphinx>=1.6.5->numpydoc->biokit) (1.0.1)\n",
      "Requirement already satisfied: snowballstemmer>=1.1 in /Users/amosfang/opt/anaconda3/lib/python3.8/site-packages (from sphinx>=1.6.5->numpydoc->biokit) (2.0.0)\n",
      "Requirement already satisfied: alabaster<0.8,>=0.7 in /Users/amosfang/opt/anaconda3/lib/python3.8/site-packages (from sphinx>=1.6.5->numpydoc->biokit) (0.7.12)\n",
      "Requirement already satisfied: zope.interface in /Users/amosfang/opt/anaconda3/lib/python3.8/site-packages (from gevent->grequests->bioservices>=1.4.5->biokit) (4.7.1)\n",
      "Requirement already satisfied: greenlet>=0.4.16; platform_python_implementation == \"CPython\" in /Users/amosfang/opt/anaconda3/lib/python3.8/site-packages (from gevent->grequests->bioservices>=1.4.5->biokit) (0.4.16)\n",
      "Requirement already satisfied: zope.event in /Users/amosfang/opt/anaconda3/lib/python3.8/site-packages (from gevent->grequests->bioservices>=1.4.5->biokit) (4.4)\n"
     ]
    },
    {
     "name": "stdout",
     "output_type": "stream",
     "text": [
      "Collecting exceptiongroup; python_version < \"3.11\"\n",
      "  Downloading exceptiongroup-1.0.0rc9-py3-none-any.whl (12 kB)\n",
      "Building wheels for collected packages: biokit, easydev, bioservices, colormap\n",
      "  Building wheel for biokit (setup.py) ... \u001b[?25ldone\n",
      "\u001b[?25h  Created wheel for biokit: filename=biokit-0.5.0-py3-none-any.whl size=177133 sha256=4f590fb8243fec748d3471b9d9da451c74fd7545186fdfaa4203b5db4ded1c87\n",
      "  Stored in directory: /Users/amosfang/Library/Caches/pip/wheels/e1/45/cd/b9a99738f30bb8dc3cebb9edecc0b47c784ac4020c91f62c95\n",
      "  Building wheel for easydev (setup.py) ... \u001b[?25ldone\n",
      "\u001b[?25h  Created wheel for easydev: filename=easydev-0.12.0-py3-none-any.whl size=64216 sha256=7a245a45087df74bcd4dbe352cc822e6e613fa0ffa56881d7702ca9e96ed1d10\n",
      "  Stored in directory: /Users/amosfang/Library/Caches/pip/wheels/e2/47/9f/de01f291cfde341b33383bcf1292b17d64c700d4a12b318a7d\n",
      "  Building wheel for bioservices (setup.py) ... \u001b[?25ldone\n",
      "\u001b[?25h  Created wheel for bioservices: filename=bioservices-1.10.4-py3-none-any.whl size=230571 sha256=43b5fbca31e2410568134a782bbe63b5f05e170ab1b2eb44b5d8f9f1142b5019\n",
      "  Stored in directory: /Users/amosfang/Library/Caches/pip/wheels/c6/0e/cd/c43122ec1b7a34d6ae165695f4520ae18d58cac45b75e197a8\n",
      "  Building wheel for colormap (setup.py) ... \u001b[?25ldone\n",
      "\u001b[?25h  Created wheel for colormap: filename=colormap-1.0.4-py3-none-any.whl size=15617 sha256=3fe19fb1e9af0e4581ac6ca3a79478fed2f6d84c18e75c8f154c7d7c31aba60e\n",
      "  Stored in directory: /Users/amosfang/Library/Caches/pip/wheels/31/58/37/3b4e752e680f9eef40869ad6d3d6bb9932704207384f8259b0\n",
      "Successfully built biokit easydev bioservices colormap\n",
      "Installing collected packages: colorlog, easydev, appdirs, grequests, attrs, url-normalize, exceptiongroup, cattrs, requests-cache, suds-community, bioservices, colormap, biopython, biokit\n",
      "  Attempting uninstall: attrs\n",
      "    Found existing installation: attrs 19.3.0\n",
      "    Uninstalling attrs-19.3.0:\n",
      "      Successfully uninstalled attrs-19.3.0\n",
      "Successfully installed appdirs-1.4.4 attrs-22.1.0 biokit-0.5.0 biopython-1.79 bioservices-1.10.4 cattrs-22.2.0 colorlog-6.7.0 colormap-1.0.4 easydev-0.12.0 exceptiongroup-1.0.0rc9 grequests-0.6.0 requests-cache-0.9.6 suds-community-1.1.2 url-normalize-1.4.3\n"
     ]
    }
   ],
   "source": [
    "# !pip install biokit # install package only once"
   ]
  },
  {
   "cell_type": "markdown",
   "metadata": {},
   "source": [
    "## Biokit Generic statistical tools\n",
    "\n",
    "Automatic Adaptative Mixture Fitting"
   ]
  },
  {
   "cell_type": "code",
   "execution_count": 23,
   "metadata": {},
   "outputs": [
    {
     "name": "stdout",
     "output_type": "stream",
     "text": [
      "Creating directory /Users/amosfang/Library/Application Support/biokit \n",
      "Creating directory /Users/amosfang/Library/Application Support/bioservices \n"
     ]
    },
    {
     "name": "stderr",
     "output_type": "stream",
     "text": [
      "/Users/amosfang/opt/anaconda3/lib/python3.8/site-packages/biokit/stats/mixture.py:196: RuntimeWarning: divide by zero encountered in log\n",
      "  res = -1 * pylab.log(self.pdf(sample, params)).sum()\n"
     ]
    },
    {
     "name": "stdout",
     "output_type": "stream",
     "text": [
      "Found min  2344.3323823659584 for k   2\n",
      "Found min  2344.3323823659584 for k   2\n"
     ]
    },
    {
     "data": {
      "image/png": "[encoded data removed]",
      "text/plain": [
       "<Figure size 432x288 with 3 Axes>"
      ]
     },
     "metadata": {
      "needs_background": "light"
     },
     "output_type": "display_data"
    }
   ],
   "source": [
    "#Code by https://biokit.readthedocs.io/en/latest/references.html#biokit.viz.hist2d.Hist2D\n",
    "\n",
    "from biokit.stats.mixture import AdaptativeMixtureFitting, GaussianMixture\n",
    "m = GaussianMixture(mu=[-1,1], sigma=[0.5,0.5], mixture=[0.2,0.8])\n",
    "amf = AdaptativeMixtureFitting(m.data)\n",
    "amf.run(kmin=1, kmax=6)\n",
    "amf.diagnostic(k=amf.best_k);"
   ]
  },
  {
   "cell_type": "code",
   "execution_count": 24,
   "metadata": {},
   "outputs": [
    {
     "data": {
      "image/png": "[encoded data removed]",
      "text/plain": [
       "<Figure size 432x288 with 1 Axes>"
      ]
     },
     "metadata": {
      "needs_background": "light"
     },
     "output_type": "display_data"
    }
   ],
   "source": [
    "#Code by https://biokit.readthedocs.io/en/latest/references.html#biokit.viz.hist2d.Hist2D\n",
    "\n",
    "from biokit.stats.mixture import GaussianMixture, EM\n",
    "m = GaussianMixture(mu=[-1,1], sigma=[0.5,0.5], mixture=[0.2,0.8])\n",
    "em = EM(m.data)\n",
    "em.estimate(k=2)\n",
    "em.plot()"
   ]
  },
  {
   "cell_type": "code",
   "execution_count": 25,
   "metadata": {},
   "outputs": [
    {
     "data": {
      "image/png": "[encoded data removed]",
      "text/plain": [
       "<Figure size 432x288 with 1 Axes>"
      ]
     },
     "metadata": {
      "needs_background": "light"
     },
     "output_type": "display_data"
    }
   ],
   "source": [
    "#Code by https://biokit.readthedocs.io/en/latest/references.html#biokit.viz.hist2d.Hist2D\n",
    "\n",
    "from biokit.stats.mixture import GaussianMixture\n",
    "m = GaussianMixture(mu=[-1,1], sigma=[0.5, 0.5], mixture=[.2, .8], N=1000)\n",
    "m.plot()"
   ]
  },
  {
   "cell_type": "code",
   "execution_count": 26,
   "metadata": {},
   "outputs": [
    {
     "data": {
      "image/png": "[encoded data removed]",
      "text/plain": [
       "<Figure size 432x288 with 1 Axes>"
      ]
     },
     "metadata": {
      "needs_background": "light"
     },
     "output_type": "display_data"
    }
   ],
   "source": [
    "#Code by https://biokit.readthedocs.io/en/latest/references.html#biokit.viz.hist2d.Hist2D\n",
    "\n",
    "from biokit.stats.mixture import GaussianMixture, GaussianMixtureFitting\n",
    "m = GaussianMixture(mu=[-1,1], sigma=[0.5,0.5], mixture=[0.2,0.8])\n",
    "mf = GaussianMixtureFitting(m.data)\n",
    "mf.estimate(k=2)\n",
    "mf.plot()"
   ]
  },
  {
   "cell_type": "code",
   "execution_count": 33,
   "metadata": {},
   "outputs": [
    {
     "data": {
      "image/png": "[encoded data removed]",
      "text/plain": [
       "<Figure size 432x432 with 1 Axes>"
      ]
     },
     "metadata": {
      "needs_background": "light"
     },
     "output_type": "display_data"
    }
   ],
   "source": [
    "import matplotlib.pyplot as plt\n",
    "import matplotlib.colors\n",
    "\n",
    "#Code by SHI LONG ZHUANG  https://www.kaggle.com/code/shilongzhuang/intro-to-mice-an-imputation-strategy\n",
    "\n",
    "\n",
    "f4 = df[['seq_id', 'protein_sequence', 'pH', 'tm', ]]\n",
    "\n",
    "\n",
    "plt.subplots(figsize = (6, 6))\n",
    "cmap = matplotlib.colors.LinearSegmentedColormap.from_list(\"\",\n",
    "                                                           ['#363062',\n",
    "                                                            '#E9D5CA',\n",
    "                                                            '#363062',\n",
    "                                                           ])\n",
    "\n",
    "mask = np.triu(np.ones_like(f4.corr() ))\n",
    "sns.heatmap(f4.corr(),\n",
    "            mask = mask,\n",
    "            cmap = cmap,\n",
    "            cbar = False,\n",
    "            square = True,\n",
    "            annot = True,\n",
    "            linewidths = 3,\n",
    "           );"
   ]
  },
  {
   "cell_type": "markdown",
   "metadata": {},
   "source": [
    "## Trying another Script\n",
    "\n",
    "Import Packages and Helper Functions"
   ]
  },
  {
   "cell_type": "code",
   "execution_count": 34,
   "metadata": {},
   "outputs": [],
   "source": [
    "from Bio.PDB import PDBParser\n",
    "import sys\n",
    "import Bio.PDB\n",
    "import Bio.PDB.StructureBuilder\n",
    "from Bio.PDB.Residue import Residue"
   ]
  },
  {
   "cell_type": "code",
   "execution_count": 35,
   "metadata": {},
   "outputs": [],
   "source": [
    "#Code by Striderl https://www.kaggle.com/code/strider1125/starter-open-vaccine-3d-structures\n",
    "\n",
    "class SloppyStructureBuilder(Bio.PDB.StructureBuilder.StructureBuilder):\n",
    "    \"\"\"Cope with resSeq < 10,000 limitation by just incrementing internally.\n",
    "\n",
    "    # Q: What's wrong here??\n",
    "    #   Some atoms or residues will be missing in the data structure.\n",
    "    #   WARNING: Residue (' ', 8954, ' ') redefined at line 74803.\n",
    "    #   PDBConstructionException: Blank altlocs in duplicate residue SOL\n",
    "    #   (' ', 8954, ' ') at line 74803.\n",
    "    #\n",
    "    # A: resSeq only goes to 9999 --> goes back to 0 (PDB format is not really\n",
    "    #    good here)\n",
    "    \"\"\"\n",
    "\n",
    "    # NOTE/TODO:\n",
    "    # - H and W records are probably not handled yet (don't have examples\n",
    "    #   to test)\n",
    "\n",
    "    def __init__(self, verbose=False):\n",
    "        Bio.PDB.StructureBuilder.StructureBuilder.__init__(self)\n",
    "        self.max_resseq = -1\n",
    "        self.verbose = verbose\n",
    "\n",
    "    def init_residue(self, resname, field, resseq, icode):\n",
    "        \"\"\"Initiate a new Residue object.\n",
    "\n",
    "        Arguments:\n",
    "        o resname - string, e.g. \"ASN\"\n",
    "        o field - hetero flag, \"W\" for waters, \"H\" for\n",
    "            hetero residues, otherwise blanc.\n",
    "        o resseq - int, sequence identifier\n",
    "        o icode - string, insertion code\n",
    "\n",
    "        \"\"\"\n",
    "        if field != \" \":\n",
    "            if field == \"H\":\n",
    "                # The hetero field consists of\n",
    "                # H_ + the residue name (e.g. H_FUC)\n",
    "                field = \"H_\" + resname\n",
    "        res_id = (field, resseq, icode)\n",
    "\n",
    "        if resseq > self.max_resseq:\n",
    "            self.max_resseq = resseq\n",
    "\n",
    "        if field == \" \":\n",
    "            fudged_resseq = False\n",
    "            while self.chain.has_id(res_id) or resseq == 0:\n",
    "                # There already is a residue with the id (field, resseq, icode)\n",
    "                # resseq == 0 catches already wrapped residue numbers which\n",
    "                # do not trigger the has_id() test.\n",
    "                #\n",
    "                # Be sloppy and just increment...\n",
    "                # (This code will not leave gaps in resids... I think)\n",
    "                #\n",
    "                # XXX: shouldn't we also do this for hetero atoms and water??\n",
    "                self.max_resseq += 1\n",
    "                resseq = self.max_resseq\n",
    "                res_id = (field, resseq, icode)  # use max_resseq!\n",
    "                fudged_resseq = True\n",
    "\n",
    "            if fudged_resseq and self.verbose:\n",
    "                sys.stderr.write(\n",
    "                    \"Residues are wrapping (Residue \"\n",
    "                    + \"('%s', %i, '%s') at line %i).\"\n",
    "                    % (field, resseq, icode, self.line_counter)\n",
    "                    + \".... assigning new resid %d.\\n\" % self.max_resseq\n",
    "                )\n",
    "        residue = Residue(res_id, resname, self.segid)\n",
    "        self.chain.add(residue)\n",
    "        self.residue = residue\n",
    "\n",
    "\n",
    "class SloppyPDBIO(Bio.PDB.PDBIO):\n",
    "    \"\"\"PDBIO class that can deal with large pdb files as used in MD simulations\n",
    "\n",
    "    - resSeq simply wrap and are printed modulo 10,000.\n",
    "    - atom numbers wrap at 99,999 and are printed modulo 100,000\n",
    "\n",
    "    \"\"\"\n",
    "\n",
    "    # The format string is derived from the PDB format as used in PDBIO.py\n",
    "    # (has to be copied to the class because of the package layout it is not\n",
    "    # externally accessible)\n",
    "    _ATOM_FORMAT_STRING = (\n",
    "        \"%s%5i %-4s%c%3s %c%4i%c   \" + \"%8.3f%8.3f%8.3f%6.2f%6.2f      %4s%2s%2s\\n\"\n",
    "    )\n",
    "\n",
    "    def _get_atom_line(\n",
    "        self,\n",
    "        atom,\n",
    "        hetfield,\n",
    "        segid,\n",
    "        atom_number,\n",
    "        resname,\n",
    "        resseq,\n",
    "        icode,\n",
    "        chain_id,\n",
    "        element=\"  \",\n",
    "        charge=\"  \",\n",
    "    ):\n",
    "        \"\"\" Returns an ATOM string that is guaranteed to fit the ATOM format.\n",
    "\n",
    "        - Resid (resseq) is wrapped (modulo 10,000) to fit into %4i (4I) format\n",
    "        - Atom number (atom_number) is wrapped (modulo 100,000) to fit into\n",
    "          %5i (5I) format\n",
    "\n",
    "        \"\"\"\n",
    "        if hetfield != \" \":\n",
    "            record_type = \"HETATM\"\n",
    "        else:\n",
    "            record_type = \"ATOM  \"\n",
    "        name = atom.get_fullname()\n",
    "        altloc = atom.get_altloc()\n",
    "        x, y, z = atom.get_coord()\n",
    "        bfactor = atom.get_bfactor()\n",
    "        occupancy = atom.get_occupancy()\n",
    "        args = (\n",
    "            record_type,\n",
    "            atom_number % 100000,\n",
    "            name,\n",
    "            altloc,\n",
    "            resname,\n",
    "            chain_id,\n",
    "            resseq % 10000,\n",
    "            icode,\n",
    "            x,\n",
    "            y,\n",
    "            z,\n",
    "            occupancy,\n",
    "            bfactor,\n",
    "            segid,\n",
    "            element,\n",
    "            charge,\n",
    "        )\n",
    "        return self._ATOM_FORMAT_STRING % args\n",
    "\n",
    "def get_structure(pdbfile, pdbid=\"system\"):\n",
    "    return sloppyparser.get_structure(pdbid, pdbfile)"
   ]
  },
  {
   "cell_type": "code",
   "execution_count": 36,
   "metadata": {},
   "outputs": [
    {
     "data": {
      "text/html": [
       "<div>\n",
       "<style scoped>\n",
       "    .dataframe tbody tr th:only-of-type {\n",
       "        vertical-align: middle;\n",
       "    }\n",
       "\n",
       "    .dataframe tbody tr th {\n",
       "        vertical-align: top;\n",
       "    }\n",
       "\n",
       "    .dataframe thead th {\n",
       "        text-align: right;\n",
       "    }\n",
       "</style>\n",
       "<table border=\"1\" class=\"dataframe\">\n",
       "  <thead>\n",
       "    <tr style=\"text-align: right;\">\n",
       "      <th></th>\n",
       "      <th>seq_id</th>\n",
       "      <th>protein_sequence</th>\n",
       "      <th>pH</th>\n",
       "      <th>tm</th>\n",
       "    </tr>\n",
       "  </thead>\n",
       "  <tbody>\n",
       "    <tr>\n",
       "      <th>0</th>\n",
       "      <td>0</td>\n",
       "      <td>AAAAKAAALALLGEAPEVVDIWLPAGWRQPFRVFRLERKGDGVLVG...</td>\n",
       "      <td>7.0</td>\n",
       "      <td>75.7</td>\n",
       "    </tr>\n",
       "    <tr>\n",
       "      <th>1</th>\n",
       "      <td>1</td>\n",
       "      <td>AAADGEPLHNEEERAGAGQVGRSLPQESEEQRTGSRPRRRRDLGSR...</td>\n",
       "      <td>7.0</td>\n",
       "      <td>50.5</td>\n",
       "    </tr>\n",
       "    <tr>\n",
       "      <th>2</th>\n",
       "      <td>2</td>\n",
       "      <td>AAAFSTPRATSYRILSSAGSGSTRADAPQVRRLHTTRDLLAKDYYA...</td>\n",
       "      <td>7.0</td>\n",
       "      <td>40.5</td>\n",
       "    </tr>\n",
       "    <tr>\n",
       "      <th>3</th>\n",
       "      <td>3</td>\n",
       "      <td>AAASGLRTAIPAQPLRHLLQPAPRPCLRPFGLLSVRAGSARRSGLL...</td>\n",
       "      <td>7.0</td>\n",
       "      <td>47.2</td>\n",
       "    </tr>\n",
       "    <tr>\n",
       "      <th>4</th>\n",
       "      <td>4</td>\n",
       "      <td>AAATKSGPRRQSQGASVRTFTPFYFLVEPVDTLSVRGSSVILNCSA...</td>\n",
       "      <td>7.0</td>\n",
       "      <td>49.5</td>\n",
       "    </tr>\n",
       "  </tbody>\n",
       "</table>\n",
       "</div>"
      ],
      "text/plain": [
       "   seq_id                                   protein_sequence   pH    tm\n",
       "0       0  AAAAKAAALALLGEAPEVVDIWLPAGWRQPFRVFRLERKGDGVLVG...  7.0  75.7\n",
       "1       1  AAADGEPLHNEEERAGAGQVGRSLPQESEEQRTGSRPRRRRDLGSR...  7.0  50.5\n",
       "2       2  AAAFSTPRATSYRILSSAGSGSTRADAPQVRRLHTTRDLLAKDYYA...  7.0  40.5\n",
       "3       3  AAASGLRTAIPAQPLRHLLQPAPRPCLRPFGLLSVRAGSARRSGLL...  7.0  47.2\n",
       "4       4  AAATKSGPRRQSQGASVRTFTPFYFLVEPVDTLSVRGSSVILNCSA...  7.0  49.5"
      ]
     },
     "execution_count": 36,
     "metadata": {},
     "output_type": "execute_result"
    }
   ],
   "source": [
    "pd.set_option('display.max_columns', None)\n",
    "df.head()"
   ]
  },
  {
   "cell_type": "code",
   "execution_count": 38,
   "metadata": {},
   "outputs": [
    {
     "name": "stdout",
     "output_type": "stream",
     "text": [
      "0\n"
     ]
    }
   ],
   "source": [
    "#Code by Striderl https://www.kaggle.com/code/strider1125/starter-open-vaccine-3d-structures\n",
    "\n",
    "# Get the id of the first sequence\n",
    "\n",
    "seq_id = df.seq_id.values[0]\n",
    "print(seq_id)"
   ]
  },
  {
   "cell_type": "code",
   "execution_count": null,
   "metadata": {},
   "outputs": [],
   "source": [
    "# #Code by Striderl https://www.kaggle.com/code/strider1125/starter-open-vaccine-3d-structures\n",
    "\n",
    "# data_dir = r'/kaggle/input/novozymes-enzyme-stability-prediction'\n",
    "# train = pd.read_csv(os.path.join(data_dir, 'train.csv'))\n",
    "# test = pd.read_csv(os.path.join(data_dir, 'test.csv'))"
   ]
  },
  {
   "cell_type": "code",
   "execution_count": 39,
   "metadata": {},
   "outputs": [],
   "source": [
    "train = pd.read_csv('train.csv')\n",
    "test = pd.read_csv('test.csv')\n",
    "\n",
    "use_cols = ['seq_id','protein_sequence', 'pH']\n",
    "all_samples = pd.concat([train[use_cols], test[use_cols]], ignore_index=True, sort=False)"
   ]
  },
  {
   "cell_type": "code",
   "execution_count": 40,
   "metadata": {},
   "outputs": [],
   "source": [
    "#Code by Striderl https://www.kaggle.com/code/strider1125/starter-open-vaccine-3d-structures\n",
    "\n",
    "# get the pdb file and parse the structure\n",
    "\n",
    "sloppyparser = Bio.PDB.PDBParser(\n",
    "    PERMISSIVE=True, structure_builder=SloppyStructureBuilder()\n",
    ")\n",
    "\n",
    "# structure = sloppyparser.get_structure(\"MD_system\", f\"/kaggle/input/novozymes-enzyme-stability-prediction/wildtype_structure_prediction_af2.pdb\")\n",
    "structure = sloppyparser.get_structure(\"MD_system\", f\"wildtype_structure_prediction_af2.pdb\")"
   ]
  },
  {
   "cell_type": "code",
   "execution_count": 46,
   "metadata": {},
   "outputs": [],
   "source": [
    "import os\n",
    "# Code by Striderl https://www.kaggle.com/code/strider1125/starter-open-vaccine-3d-structures\n",
    "\n",
    "# pdb_folder = r\"/kaggle/input/novozymes-enzyme-stability-prediction/\"\n",
    "pdb_folder = r'/'\n",
    "\n",
    "def _get_seq(structure):\n",
    "    coord = []\n",
    "    seq = []\n",
    "    for x in structure.get_atoms():\n",
    "        if str(x) == \"<Atom C1'>\":\n",
    "            coord.append(x.coord)\n",
    "            seq.append(x.parent.resname.strip())\n",
    "    seq = \"\".join(seq)\n",
    "    return coord, seq\n",
    "\n",
    "def get_c1_coord(seq_id, sequence):\n",
    "    full_path = os.path.join(pdb_folder, f\"{seq_id}.pdb\")\n",
    "    if not os.path.exists(full_path):\n",
    "        return \"file doesn't exist\", np.nan\n",
    "    structure = sloppyparser.get_structure(\"MD_system\", full_path)\n",
    "    coord, seq = _get_seq(structure)\n",
    "    if seq != sequence:\n",
    "        print(f\"seq_id {seq_id} sequence doesn't match\")\n",
    "        return \"sequence doesn't match\", seq\n",
    "    return coord, seq\n",
    "\n",
    "all_samples[['coord', 'C1_implied_sequence']] = all_samples.apply(lambda x: get_c1_coord(x['seq_id'], x['protein_sequence']), axis=1, result_type=\"expand\")"
   ]
  },
  {
   "cell_type": "markdown",
   "metadata": {},
   "source": [
    "### What's C1_implied_sequence?? above in all samples"
   ]
  },
  {
   "cell_type": "code",
   "execution_count": 47,
   "metadata": {},
   "outputs": [],
   "source": [
    "#Code by Striderl https://www.kaggle.com/code/strider1125/starter-open-vaccine-3d-structures\n",
    "\n",
    "# print out C1 atom coordinates of each nucleotide\n",
    "\n",
    "for x in structure.get_atoms():\n",
    "    if str(x) == \"<Atom C1'>\":\n",
    "        print(str(x), x.parent.resname.strip(), x.coord)"
   ]
  },
  {
   "cell_type": "code",
   "execution_count": 48,
   "metadata": {},
   "outputs": [],
   "source": [
    "#Code by Striderl https://www.kaggle.com/code/strider1125/starter-open-vaccine-3d-structures\n",
    "\n",
    "def point_distance(a, b):\n",
    "    return np.sqrt(np.sum((a-b)**2))\n",
    "\n",
    "def calc_dist(coord):\n",
    "    N = len(coord)\n",
    "    result = np.zeros((N, N))\n",
    "    for i in range(N):\n",
    "        for j in range(i+1, N):\n",
    "            d = point_distance(coord[i], coord[j])\n",
    "            result[i][j] = d\n",
    "            result[j][i] = d\n",
    "    return result"
   ]
  },
  {
   "cell_type": "code",
   "execution_count": 49,
   "metadata": {},
   "outputs": [
    {
     "ename": "AssertionError",
     "evalue": "",
     "output_type": "error",
     "traceback": [
      "\u001b[0;31m---------------------------------------------------------------------------\u001b[0m",
      "\u001b[0;31mAssertionError\u001b[0m                            Traceback (most recent call last)",
      "\u001b[0;32m<ipython-input-49-5787a3252c7c>\u001b[0m in \u001b[0;36m<module>\u001b[0;34m\u001b[0m\n\u001b[1;32m      3\u001b[0m \u001b[0mdist\u001b[0m \u001b[0;34m=\u001b[0m \u001b[0;34m{\u001b[0m\u001b[0;34m}\u001b[0m\u001b[0;34m\u001b[0m\u001b[0;34m\u001b[0m\u001b[0m\n\u001b[1;32m      4\u001b[0m \u001b[0;32mfor\u001b[0m \u001b[0mi\u001b[0m \u001b[0;32min\u001b[0m \u001b[0mrange\u001b[0m\u001b[0;34m(\u001b[0m\u001b[0mlen\u001b[0m\u001b[0;34m(\u001b[0m\u001b[0mall_samples\u001b[0m\u001b[0;34m)\u001b[0m\u001b[0;34m)\u001b[0m\u001b[0;34m:\u001b[0m\u001b[0;34m\u001b[0m\u001b[0;34m\u001b[0m\u001b[0m\n\u001b[0;32m----> 5\u001b[0;31m     \u001b[0;32massert\u001b[0m \u001b[0mall_samples\u001b[0m\u001b[0;34m.\u001b[0m\u001b[0mprotein_sequence\u001b[0m\u001b[0;34m.\u001b[0m\u001b[0mvalues\u001b[0m\u001b[0;34m[\u001b[0m\u001b[0mi\u001b[0m\u001b[0;34m]\u001b[0m \u001b[0;34m==\u001b[0m \u001b[0mall_samples\u001b[0m\u001b[0;34m.\u001b[0m\u001b[0mC1_implied_sequence\u001b[0m\u001b[0;34m.\u001b[0m\u001b[0mvalues\u001b[0m\u001b[0;34m[\u001b[0m\u001b[0mi\u001b[0m\u001b[0;34m]\u001b[0m\u001b[0;34m\u001b[0m\u001b[0;34m\u001b[0m\u001b[0m\n\u001b[0m\u001b[1;32m      6\u001b[0m     \u001b[0mseq_id\u001b[0m \u001b[0;34m=\u001b[0m \u001b[0mall_samples\u001b[0m\u001b[0;34m.\u001b[0m\u001b[0mseq_id\u001b[0m\u001b[0;34m.\u001b[0m\u001b[0mvalues\u001b[0m\u001b[0;34m[\u001b[0m\u001b[0mi\u001b[0m\u001b[0;34m]\u001b[0m\u001b[0;34m\u001b[0m\u001b[0;34m\u001b[0m\u001b[0m\n\u001b[1;32m      7\u001b[0m     \u001b[0mcoord\u001b[0m \u001b[0;34m=\u001b[0m \u001b[0mall_samples\u001b[0m\u001b[0;34m.\u001b[0m\u001b[0mcoord\u001b[0m\u001b[0;34m.\u001b[0m\u001b[0mvalues\u001b[0m\u001b[0;34m[\u001b[0m\u001b[0mi\u001b[0m\u001b[0;34m]\u001b[0m\u001b[0;34m\u001b[0m\u001b[0;34m\u001b[0m\u001b[0m\n",
      "\u001b[0;31mAssertionError\u001b[0m: "
     ]
    }
   ],
   "source": [
    "#Code by Striderl https://www.kaggle.com/code/strider1125/starter-open-vaccine-3d-structures\n",
    "\n",
    "dist = {}\n",
    "for i in range(len(all_samples)):\n",
    "    assert all_samples.protein_sequence.values[i] == all_samples.C1_implied_sequence.values[i]\n",
    "    seq_id = all_samples.seq_id.values[i]\n",
    "    coord = all_samples.coord.values[i]\n",
    "    dist[seq_id] = calc_dist(coord)\n",
    "    if i % 100 == 0:\n",
    "        print(i, end=\" \")"
   ]
  },
  {
   "cell_type": "code",
   "execution_count": 50,
   "metadata": {},
   "outputs": [
    {
     "ename": "NameError",
     "evalue": "name 'pickle' is not defined",
     "output_type": "error",
     "traceback": [
      "\u001b[0;31m---------------------------------------------------------------------------\u001b[0m",
      "\u001b[0;31mNameError\u001b[0m                                 Traceback (most recent call last)",
      "\u001b[0;32m<ipython-input-50-b87b4b226079>\u001b[0m in \u001b[0;36m<module>\u001b[0;34m\u001b[0m\n\u001b[0;32m----> 1\u001b[0;31m \u001b[0mpickle\u001b[0m\u001b[0;34m.\u001b[0m\u001b[0mdump\u001b[0m\u001b[0;34m(\u001b[0m\u001b[0mdist\u001b[0m\u001b[0;34m,\u001b[0m \u001b[0mopen\u001b[0m\u001b[0;34m(\u001b[0m\u001b[0;34mr\"dist\"\u001b[0m\u001b[0;34m,\u001b[0m \u001b[0;34m\"wb\"\u001b[0m\u001b[0;34m)\u001b[0m\u001b[0;34m)\u001b[0m\u001b[0;34m\u001b[0m\u001b[0;34m\u001b[0m\u001b[0m\n\u001b[0m",
      "\u001b[0;31mNameError\u001b[0m: name 'pickle' is not defined"
     ]
    }
   ],
   "source": [
    "pickle.dump(dist, open(r\"dist\", \"wb\"))"
   ]
  },
  {
   "cell_type": "code",
   "execution_count": null,
   "metadata": {},
   "outputs": [],
   "source": []
  },
  {
   "cell_type": "code",
   "execution_count": null,
   "metadata": {},
   "outputs": [],
   "source": []
  },
  {
   "cell_type": "code",
   "execution_count": null,
   "metadata": {},
   "outputs": [],
   "source": []
  },
  {
   "cell_type": "code",
   "execution_count": null,
   "metadata": {},
   "outputs": [],
   "source": []
  },
  {
   "cell_type": "code",
   "execution_count": null,
   "metadata": {},
   "outputs": [],
   "source": []
  }
 ],
 "metadata": {
  "kernelspec": {
   "display_name": "Python 3",
   "language": "python",
   "name": "python3"
  },
  "language_info": {
   "codemirror_mode": {
    "name": "ipython",
    "version": 3
   },
   "file_extension": ".py",
   "mimetype": "text/x-python",
   "name": "python",
   "nbconvert_exporter": "python",
   "pygments_lexer": "ipython3",
   "version": "3.8.3"
  }
 },
 "nbformat": 4,
 "nbformat_minor": 4
}
